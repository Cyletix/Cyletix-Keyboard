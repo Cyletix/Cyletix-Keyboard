{
 "cells": [
  {
   "cell_type": "markdown",
   "metadata": {},
   "source": [
    "## Watch the [YouTube video](https://www.youtube.com/watch?v=EOaPb9wrgDY) first for more context."
   ]
  },
  {
   "cell_type": "code",
   "execution_count": 19,
   "metadata": {},
   "outputs": [],
   "source": [
    "import math\n",
    "import json\n",
    "import random\n",
    "from PIL import Image, ImageDraw, ImageFont \n",
    "import matplotlib.pyplot as plt\n",
    "import os"
   ]
  },
  {
   "cell_type": "markdown",
   "metadata": {},
   "source": [
    "## Setting up the keyboard\n",
    "\n",
    "### Coordinates\n",
    "\n",
    "Start by creating a dictionary to store the coordinate positions for each key. In this project, the key labeling order will be top to bottom, left to right. This means that on a QWERTY layout, the \"Q\" key corresponds to index 0, \"A\" is 1, \"Z\" is 2, \"W\" is 3, \"S\" is 4, etc. The middle row and bottom row will be offset from the top row. Set these offsets to 0 to represent an ortholinear keyboard. This will create a keyboard with 30 keys."
   ]
  },
  {
   "cell_type": "code",
   "execution_count": 20,
   "metadata": {},
   "outputs": [
    {
     "data": {
      "text/plain": [
       "{0: (0, 0),\n",
       " 1: (24, 94),\n",
       " 2: (71, 188),\n",
       " 3: (94, 0),\n",
       " 4: (118, 94),\n",
       " 5: (165, 188),\n",
       " 6: (188, 0),\n",
       " 7: (212, 94),\n",
       " 8: (259, 188),\n",
       " 9: (282, 0),\n",
       " 10: (306, 94),\n",
       " 11: (353, 188),\n",
       " 12: (376, 0),\n",
       " 13: (400, 94),\n",
       " 14: (447, 188),\n",
       " 15: (470, 0),\n",
       " 16: (494, 94),\n",
       " 17: (541, 188),\n",
       " 18: (564, 0),\n",
       " 19: (588, 94),\n",
       " 20: (635, 188),\n",
       " 21: (658, 0),\n",
       " 22: (682, 94),\n",
       " 23: (729, 188),\n",
       " 24: (752, 0),\n",
       " 25: (776, 94),\n",
       " 26: (823, 188),\n",
       " 27: (846, 0),\n",
       " 28: (870, 94),\n",
       " 29: (917, 188)}"
      ]
     },
     "execution_count": 20,
     "metadata": {},
     "output_type": "execute_result"
    }
   ],
   "source": [
    "KEY_WIDTH = 94\n",
    "MIDDLE_OFFSET = 24\n",
    "BOTTOM_OFFSET = 71\n",
    "offsets = [0, MIDDLE_OFFSET, BOTTOM_OFFSET]\n",
    "\n",
    "coords = {}\n",
    "for i1 in range(30):\n",
    "    row = i1%3\n",
    "    column = math.floor(i1/3)\n",
    "    x = column*KEY_WIDTH + offsets[row]\n",
    "    y = row*KEY_WIDTH\n",
    "    coords[i1] = (x, y)\n",
    "coords"
   ]
  },
  {
   "cell_type": "markdown",
   "metadata": {},
   "source": [
    "### Keys per finger\n",
    "\n",
    "Define all of the key that each finger is responsible for typing. This can change depending on how many fingers you want to simulate typing with. For example, assuming 10 finger typing on a QWERTY layout, the pinky finger on the left hand will be responsible for typing the \"Q\", \"A\", and \"Z\" keys. Therefore, the keys 0, 1, and 2 will be grouped together in the two dimmensional array. Similarly, the the ring finger on the left hand is responsible for typing \"W\", \"S\", and \"X\", so the keys 3, 4, and 5 will be grouped together. We define define the keys for each finger as elements in a 2 dimensional array."
   ]
  },
  {
   "cell_type": "code",
   "execution_count": 21,
   "metadata": {},
   "outputs": [],
   "source": [
    "global keys_per_finger\n",
    "keys_per_finger = [[0,1,2], [3,4,5], [6,7], [8,9,10,11,12,13,14], [15,16,17,18,19,20], [21,22,23], [24,25,26], [27,28,29]]\n",
    "# The keys per finger for a 2 finger typing would be defined as follows:\n",
    "# keys_per_finger = [[0,1,2,3,4,5,6,7,8,9,10,11,12,13,14], [15,16,17,18,19,20,21,22,23,24,25,26,27,28,29]]\n",
    "# The keys per finger for a 1 finger typing would be defined as follows:\n",
    "# keys_per_finger = [[0,1,2,3,4,5,6,7,8,9,10,11,12,13,14,15,16,17,18,19,20,21,22,23,24,25,26,27,28,29]]"
   ]
  },
  {
   "cell_type": "markdown",
   "metadata": {},
   "source": [
    "### Home keys\n",
    "\n",
    "When typing, each finger that is used to type should have home keys defined which is their default position that they start in and return to when not actively typing. For example, for 10 finger typing on a QWERTY keyboard the home keys will be \"A\", \"S\", \"D\", \"F\", \"J\", \"K\", \"L\", and \";\". This corresponds to keys 1, 4, 7, 10, 19, 22, 25, 28. Use a dictionary to associate each key to its corresponding home key."
   ]
  },
  {
   "cell_type": "code",
   "execution_count": 22,
   "metadata": {},
   "outputs": [
    {
     "data": {
      "text/plain": [
       "{0: 1,\n",
       " 1: 1,\n",
       " 2: 1,\n",
       " 3: 4,\n",
       " 4: 4,\n",
       " 5: 4,\n",
       " 6: 7,\n",
       " 7: 7,\n",
       " 8: 10,\n",
       " 9: 10,\n",
       " 10: 10,\n",
       " 11: 10,\n",
       " 12: 10,\n",
       " 13: 10,\n",
       " 14: 10,\n",
       " 15: 19,\n",
       " 16: 19,\n",
       " 17: 19,\n",
       " 18: 19,\n",
       " 19: 19,\n",
       " 20: 19,\n",
       " 21: 22,\n",
       " 22: 22,\n",
       " 23: 22,\n",
       " 24: 25,\n",
       " 25: 25,\n",
       " 26: 25,\n",
       " 27: 28,\n",
       " 28: 28,\n",
       " 29: 28}"
      ]
     },
     "execution_count": 22,
     "metadata": {},
     "output_type": "execute_result"
    }
   ],
   "source": [
    "home_key_pos = [1, 4, 7, 10, 19, 22, 25, 28]\n",
    "# The home keys for a 2 finger typing would be defined as follows:\n",
    "# home_key_pos = [7, 22]\n",
    "# The home key for a 1 finger typing would be defined as follows:\n",
    "# home_key_pos = [16]\n",
    "home_keys = {}\n",
    "for i1, keys in enumerate(keys_per_finger):\n",
    "    for key in keys:\n",
    "        home_keys[key] = home_key_pos[i1]\n",
    "home_keys"
   ]
  },
  {
   "cell_type": "markdown",
   "metadata": {},
   "source": [
    "### Keyboard object\n",
    "\n",
    "Each keyboard will be defined as a dictionary for what character each key corresponds to. This function will convert a genome (string representing a keyboard) into a dictionary. The genome should be in order, so for the QWERTY layout, the genome will be \"qazwsxedcrfvtgbyhnujmik,ol.p;/\". It will also take into account shift keys like \"<\", \">\", \":\", and \"?\" by adding them to the dictionary with the appropriate corresponding key. "
   ]
  },
  {
   "cell_type": "code",
   "execution_count": 23,
   "metadata": {},
   "outputs": [],
   "source": [
    "def genome_to_keyboard(genome):\n",
    "    keyboard = {}\n",
    "    for i, char in enumerate(genome):\n",
    "        keyboard[char] = i\n",
    "        if char == ',':\n",
    "            keyboard['<'] = i\n",
    "        elif char == '.':\n",
    "            keyboard['>'] = i\n",
    "        elif char == ';':\n",
    "            keyboard[':'] = i\n",
    "        elif char == '/':\n",
    "            keyboard['?'] = i\n",
    "    return keyboard"
   ]
  },
  {
   "cell_type": "markdown",
   "metadata": {},
   "source": [
    "## Data Collection\n",
    "\n",
    "### arXiv.org dataset\n",
    "\n",
    "The arXiv.org metadata dataset can be downloaded from [Kaggle](https://www.kaggle.com/datasets/Cornell-University/arxiv). Download the json file and save it in the same directory as this notebook. The following code will create a collection of abstracts. It will not include any abstracts that contain illegal characters. This will reduce any unwanted data like scientific notation and math equations. In the original video, only a small subset of the dataset of 587 abtracts. The dataset is very large and calculating the distance over the entire dataset will take a very long time."
   ]
  },
  {
   "cell_type": "code",
   "execution_count": 24,
   "metadata": {},
   "outputs": [],
   "source": [
    "full_text = {}"
   ]
  },
  {
   "cell_type": "code",
   "execution_count": 25,
   "metadata": {},
   "outputs": [],
   "source": [
    "ARXIV_JSON = 'arxiv-metadata-oai-snapshot.json'\n",
    "DATA_LIMIT = 3000  # 2486206 条数据, 太多了, 设定30000为效率测试数\n",
    "\n",
    "full_text['arxiv'] = ''\n",
    "legal_chars = 'qazwsxedcrfvtgbyhnujmik,ol.p;:? '\n",
    "\n",
    "count = 0\n",
    "with open(ARXIV_JSON) as file:\n",
    "    for line in file:\n",
    "        if count > DATA_LIMIT:\n",
    "            break\n",
    "        abstract = json.loads(line)['abstract'].replace('\\n', ' ').strip().lower()\n",
    "        if any(char not in legal_chars for char in abstract):\n",
    "            continue\n",
    "        full_text['arxiv'] += ' ' + abstract\n",
    "        count += 1"
   ]
  },
  {
   "cell_type": "code",
   "execution_count": 26,
   "metadata": {},
   "outputs": [],
   "source": [
    "# # 随机抽取3000条, 未测试\n",
    "\n",
    "# ARXIV_JSON = 'arxiv-metadata-oai-snapshot.json'\n",
    "# DATA_LIMIT = 3000  # 设定3000为抽样数\n",
    "# legal_chars = 'qazwsxedcrfvtgbyhnujmik,ol.p;:? '\n",
    "\n",
    "# full_text = {'arxiv': ''}  # 初始化字典\n",
    "# sampled_abstracts = []\n",
    "# count = 0\n",
    "\n",
    "# with open(ARXIV_JSON) as file:\n",
    "#     for line in file:\n",
    "#         abstract = json.loads(line)['abstract'].replace('\\n', ' ').strip().lower()\n",
    "#         if all(char in legal_chars for char in abstract):\n",
    "#             if len(sampled_abstracts) < DATA_LIMIT:\n",
    "#                 sampled_abstracts.append(abstract)\n",
    "#             else:\n",
    "#                 replace_index = random.randint(0, count)\n",
    "#                 if replace_index < DATA_LIMIT:\n",
    "#                     sampled_abstracts[replace_index] = abstract\n",
    "#         count += 1\n",
    "\n",
    "# full_text['arxiv'] = ' '.join(sampled_abstracts)"
   ]
  },
  {
   "cell_type": "code",
   "execution_count": 27,
   "metadata": {},
   "outputs": [],
   "source": [
    "# 中文数据集\n",
    "NOTEBOOK_JSON = 'notebook_content.json'\n",
    "DATA_LIMIT2 = 324  # 3249 条, 3249为效率测试数\n",
    "\n",
    "full_text['chinese'] = ''\n",
    "legal_chars = 'qazwsxedcrfvtgbyhnujmik,ol.p;:? '\n",
    "\n",
    "count = 0\n",
    "with open(NOTEBOOK_JSON, 'r', encoding='utf-8') as file:\n",
    "    for line in file:\n",
    "        if count > DATA_LIMIT2:\n",
    "            break\n",
    "        content_pinyin = json.loads(line)['content_pinyin'].replace('\\n', ' ').strip().lower()\n",
    "        if any(char not in legal_chars for char in content_pinyin):\n",
    "            continue\n",
    "        full_text['chinese'] += ' ' + content_pinyin\n",
    "        count += 1"
   ]
  },
  {
   "cell_type": "code",
   "execution_count": 28,
   "metadata": {},
   "outputs": [],
   "source": [
    "#Python数据集\n",
    "PYTHON_CODE='python_code2.json'\n",
    "DATA_LIMIT3 = 45  # 728 条, 728为效率测试数\n",
    "\n",
    "full_text['python'] = ''\n",
    "legal_chars = 'qazwsxedcrfvtgbyhnujmik,ol.p;:? '\n",
    "\n",
    "count = 0\n",
    "with open(PYTHON_CODE, 'r', encoding='utf-8') as file:\n",
    "    for line in file:\n",
    "        if count > DATA_LIMIT3:\n",
    "            break\n",
    "        content_python = json.loads(line)['content'].replace('\\n', ' ').strip().lower()\n",
    "        # if any(char not in legal_chars for char in content_python):\n",
    "        #     continue\n",
    "        cleaned_content = ''.join([char for char in content_python if char in legal_chars]) # python不能简单跳过处理\n",
    "        full_text['python'] += ' ' + cleaned_content\n",
    "        count += 1\n"
   ]
  },
  {
   "cell_type": "code",
   "execution_count": 29,
   "metadata": {},
   "outputs": [
    {
     "name": "stdout",
     "output_type": "stream",
     "text": [
      "总计: 2175285\n",
      "arxiv: 1251359, 占比57.53%\n",
      "中文: 757849, 占比34.84%\n",
      "Python: 166077, 占比7.63%\n"
     ]
    }
   ],
   "source": [
    "# 数据集长度长度\n",
    "total_full_text = full_text['arxiv']+full_text['chinese']+full_text['python']\n",
    "print(\"总计:\",len(total_full_text))\n",
    "percent = \"{:.2f}%\".format(len(full_text['arxiv'])/len(total_full_text)* 100)\n",
    "percen_chinese = \"{:.2f}%\".format(len(full_text['chinese'])/len(total_full_text)* 100)\n",
    "percent_python = \"{:.2f}%\".format(len(full_text['python'])/len(total_full_text)* 100)\n",
    "\n",
    "print(f\"arxiv: {len(full_text['arxiv'])}, 占比{percent}\\n中文: {len(full_text['chinese'])}, 占比{percen_chinese}\\nPython: {len(full_text['python'])}, 占比{percent_python}\")"
   ]
  },
  {
   "cell_type": "markdown",
   "metadata": {},
   "source": [
    "## Calculate distance\n",
    "\n",
    "### Calculate distance between two keys\n",
    "\n",
    "This simple function will calculate the distance between any two given keys, given their coordinates as input parameters"
   ]
  },
  {
   "cell_type": "code",
   "execution_count": 30,
   "metadata": {},
   "outputs": [],
   "source": [
    "def distance(first, second):\n",
    "    return math.hypot(second[0] - first[0], second[1] - first[1])"
   ]
  },
  {
   "cell_type": "markdown",
   "metadata": {},
   "source": [
    "### Calculate distance for all letter pairings\n",
    "\n",
    "Calculate the distance for all valid letter pairings and save it as a dictionary of dictionaries. The key in the dictionary corresponds to the starting key. The inner dictionary key is the ending key, and the inner dictionary value is the distance for that key pairing. For example, the dinstances from key 0 to keys 0, 1, and 2 will be represented as: \n",
    "```\n",
    "{\n",
    "  0: {\n",
    "    0: 0.0, \n",
    "    1: 1.0320793902668004, \n",
    "    2: 2.1378744155702085\n",
    "  }\n",
    "}\n",
    "       \n",
    "```"
   ]
  },
  {
   "cell_type": "code",
   "execution_count": 31,
   "metadata": {},
   "outputs": [
    {
     "data": {
      "text/plain": [
       "{0: {0: 0.0, 1: 1.0320793902668004, 2: 2.1378744155702085},\n",
       " 1: {0: 1.0320793902668004, 1: 0.0, 2: 1.1180339887498947},\n",
       " 2: {0: 2.1378744155702085, 1: 1.1180339887498947, 2: 0.0},\n",
       " 3: {3: 0.0, 4: 1.0320793902668004, 5: 2.1378744155702085},\n",
       " 4: {3: 1.0320793902668004, 4: 0.0, 5: 1.1180339887498947},\n",
       " 5: {3: 2.1378744155702085, 4: 1.1180339887498947, 5: 0.0},\n",
       " 6: {6: 0.0, 7: 1.0320793902668004},\n",
       " 7: {6: 1.0320793902668004, 7: 0.0},\n",
       " 8: {8: 0.0,\n",
       "  9: 2.01491159083403,\n",
       "  10: 1.1180339887498947,\n",
       "  11: 1.0,\n",
       "  12: 2.3556804581702036,\n",
       "  13: 1.8027756377319948,\n",
       "  14: 2.0},\n",
       " 9: {8: 2.01491159083403,\n",
       "  9: 0.0,\n",
       "  10: 1.0320793902668004,\n",
       "  11: 2.1378744155702085,\n",
       "  12: 1.0,\n",
       "  13: 1.6049380566507325,\n",
       "  14: 2.6610421482235114},\n",
       " 10: {8: 1.1180339887498947,\n",
       "  9: 1.0320793902668004,\n",
       "  10: 0.0,\n",
       "  11: 1.1180339887498947,\n",
       "  12: 1.2468157722539244,\n",
       "  13: 1.0,\n",
       "  14: 1.8027756377319948},\n",
       " 11: {8: 1.0,\n",
       "  9: 2.1378744155702085,\n",
       "  10: 1.1180339887498947,\n",
       "  11: 0.0,\n",
       "  12: 2.01491159083403,\n",
       "  13: 1.1180339887498947,\n",
       "  14: 1.0},\n",
       " 12: {8: 2.3556804581702036,\n",
       "  9: 1.0,\n",
       "  10: 1.2468157722539244,\n",
       "  11: 2.01491159083403,\n",
       "  12: 0.0,\n",
       "  13: 1.0320793902668004,\n",
       "  14: 2.1378744155702085},\n",
       " 13: {8: 1.8027756377319948,\n",
       "  9: 1.6049380566507325,\n",
       "  10: 1.0,\n",
       "  11: 1.1180339887498947,\n",
       "  12: 1.0320793902668004,\n",
       "  13: 0.0,\n",
       "  14: 1.1180339887498947},\n",
       " 14: {8: 2.0,\n",
       "  9: 2.6610421482235114,\n",
       "  10: 1.8027756377319948,\n",
       "  11: 1.0,\n",
       "  12: 2.1378744155702085,\n",
       "  13: 1.1180339887498947,\n",
       "  14: 0.0},\n",
       " 15: {15: 0.0,\n",
       "  16: 1.0320793902668004,\n",
       "  17: 2.1378744155702085,\n",
       "  18: 1.0,\n",
       "  19: 1.6049380566507325,\n",
       "  20: 2.6610421482235114},\n",
       " 16: {15: 1.0320793902668004,\n",
       "  16: 0.0,\n",
       "  17: 1.1180339887498947,\n",
       "  18: 1.2468157722539244,\n",
       "  19: 1.0,\n",
       "  20: 1.8027756377319948},\n",
       " 17: {15: 2.1378744155702085,\n",
       "  16: 1.1180339887498947,\n",
       "  17: 0.0,\n",
       "  18: 2.01491159083403,\n",
       "  19: 1.1180339887498947,\n",
       "  20: 1.0},\n",
       " 18: {15: 1.0,\n",
       "  16: 1.2468157722539244,\n",
       "  17: 2.01491159083403,\n",
       "  18: 0.0,\n",
       "  19: 1.0320793902668004,\n",
       "  20: 2.1378744155702085},\n",
       " 19: {15: 1.6049380566507325,\n",
       "  16: 1.0,\n",
       "  17: 1.1180339887498947,\n",
       "  18: 1.0320793902668004,\n",
       "  19: 0.0,\n",
       "  20: 1.1180339887498947},\n",
       " 20: {15: 2.6610421482235114,\n",
       "  16: 1.8027756377319948,\n",
       "  17: 1.0,\n",
       "  18: 2.1378744155702085,\n",
       "  19: 1.1180339887498947,\n",
       "  20: 0.0},\n",
       " 21: {21: 0.0, 22: 1.0320793902668004, 23: 2.1378744155702085},\n",
       " 22: {21: 1.0320793902668004, 22: 0.0, 23: 1.1180339887498947},\n",
       " 23: {21: 2.1378744155702085, 22: 1.1180339887498947, 23: 0.0},\n",
       " 24: {24: 0.0, 25: 1.0320793902668004, 26: 2.1378744155702085},\n",
       " 25: {24: 1.0320793902668004, 25: 0.0, 26: 1.1180339887498947},\n",
       " 26: {24: 2.1378744155702085, 25: 1.1180339887498947, 26: 0.0},\n",
       " 27: {27: 0.0, 28: 1.0320793902668004, 29: 2.1378744155702085},\n",
       " 28: {27: 1.0320793902668004, 28: 0.0, 29: 1.1180339887498947},\n",
       " 29: {27: 2.1378744155702085, 28: 1.1180339887498947, 29: 0.0}}"
      ]
     },
     "execution_count": 31,
     "metadata": {},
     "output_type": "execute_result"
    }
   ],
   "source": [
    "distances = {i: {} for i in range(30)}\n",
    "for keys in keys_per_finger:\n",
    "    for i1 in keys:\n",
    "        for j1 in keys:\n",
    "            distances[i1][j1] = distance(coords[i1], coords[j1]) / KEY_WIDTH\n",
    "distances"
   ]
  },
  {
   "cell_type": "markdown",
   "metadata": {},
   "source": [
    "### Calculate total distance for a given string\n",
    "\n",
    "This function will calculate the total distance for any given string with any given keyboard. This will fail if there are invalid characters in the string"
   ]
  },
  {
   "cell_type": "code",
   "execution_count": 32,
   "metadata": {},
   "outputs": [],
   "source": [
    "def total_distance(input_string, keyboard):\n",
    "    input_string = input_string.lower()\n",
    "    input_string = input_string.replace(' ', '')\n",
    "    first_char = input_string[0]\n",
    "    first_pos = keyboard[first_char]\n",
    "    first_home_key = home_keys[first_pos]\n",
    "    total_dist = distances[first_home_key][first_pos]\n",
    "    for i in range(0, len(input_string)-1):\n",
    "        cur_char = input_string[i]\n",
    "        next_char = input_string[i+1]\n",
    "        cur_pos = keyboard[cur_char]\n",
    "        next_pos = keyboard[next_char]\n",
    "        if cur_pos in distances and next_pos in distances[cur_pos]:\n",
    "            total_dist += distances[cur_pos][next_pos]\n",
    "        else:\n",
    "            home_key = home_keys[next_pos]\n",
    "            total_dist += distances[home_key][next_pos]\n",
    "    return total_dist"
   ]
  },
  {
   "cell_type": "markdown",
   "metadata": {},
   "source": [
    "### 自定义带换行惩罚的距离(未完成)"
   ]
  },
  {
   "cell_type": "code",
   "execution_count": 33,
   "metadata": {},
   "outputs": [],
   "source": [
    "# 获取字符的 finger_index 以及按键相对于手指的具体位置\n",
    "def get_finger_and_key_position(char, layout, keys_per_finger):\n",
    "    index = layout.index(char)  # 找出字符在 layout['qwerty'] 中的索引\n",
    "    for finger_idx, finger_keys in enumerate(keys_per_finger):\n",
    "        if index in finger_keys:\n",
    "            key_position_in_finger = finger_keys.index(index)\n",
    "            return finger_idx, key_position_in_finger  # 返回手指索引和在该手指负责的按键列表中的位置\n",
    "    return None, None  # 如果未找到匹配，返回None\n",
    "\n",
    "# 动态生成 line_positions\n",
    "def generate_line_positions_by_finger(layout, keys_per_finger):\n",
    "    line_positions = {}\n",
    "    for char in layout:\n",
    "        finger, position_in_finger = get_finger_and_key_position(char, layout, keys_per_finger)\n",
    "        line_positions[char] = (finger, position_in_finger)  # 每个字符映射为 (手指索引, 在手指的具体位置)\n",
    "    return line_positions\n",
    "\n",
    "# 生成 line_positions\n",
    "line_positions = generate_line_positions_by_finger(layout['qwerty'], keys_per_finger)\n",
    "\n",
    "# 带有换行惩罚的距离计算函数\n",
    "def calculate_distance_with_penalty(input_string, layout_string, line_positions, base_distances, penalty=1):\n",
    "    total_distance = 0\n",
    "    for i in range(len(input_string) - 1):\n",
    "        current_key = input_string[i]\n",
    "        next_key = input_string[i + 1]\n",
    "        current_pos = layout_string.index(current_key)\n",
    "        next_pos = layout_string.index(next_key)\n",
    "\n",
    "        # 计算基本距离\n",
    "        distance = base_distances[current_pos][next_pos]\n",
    "        total_distance += distance\n",
    "\n",
    "        # 检查是否换行（跨越手指），加上惩罚\n",
    "        if line_positions[current_key][0] != line_positions[next_key][0]:  # 判断是否换行（手指）\n",
    "            total_distance += penalty\n",
    "\n",
    "    return total_distance"
   ]
  },
  {
   "cell_type": "code",
   "execution_count": 34,
   "metadata": {},
   "outputs": [],
   "source": [
    "# # 示例使用\n",
    "# base_distances = [[0]*len('qazwsxedcrfvtgbyhnujmik,ol.p;/') for _ in range('qazwsxedcrfvtgbyhnujmik,ol.p;/')]  # 示例距离矩阵\n",
    "# penalty_distance = calculate_distance_with_penalty(full_text, 'qazwsxedcrfvtgbyhnujmik,ol.p;/', line_positions, base_distances)\n",
    "# print(f\"带有换行惩罚的总距离: {penalty_distance}\")"
   ]
  },
  {
   "cell_type": "markdown",
   "metadata": {},
   "source": [
    "### Test the distance\n",
    "\n",
    "Calculate the total distance for a test string."
   ]
  },
  {
   "cell_type": "code",
   "execution_count": 35,
   "metadata": {},
   "outputs": [],
   "source": [
    "layout = {}  # 创建一个空字典\n",
    "\n",
    "# 向字典中添加键值对\n",
    "layout['qwerty'] = 'qazwsxedcrfvtgbyhnujmik,ol.p;/'\n",
    "# layout['qwertz'] = 'qaywsxedcrfvtgbzhnujmik,ol.p;/'\n",
    "# layout['devorak'] = '/a;,oq.ejpukyixfdbghmctwrnvlsz'\n",
    "layout['colemak'] = 'qazwrxfscptvgdbjhklnmue,yi.;o?'\n",
    "# layout['rstlne'] = 'qagwsxdecfrvzl/;hbunjkimyo,pt.'\n",
    "# layout['cyletix1'] = 'qazwsxdecrtv;gbyhjunmki,fo.pl/'\n",
    "# layout['cyletix2'] = 'qazwsxdecrtvfgbyhjunmki,lo.p;/'\n",
    "# layout['cyletix3'] = 'qazwsxdecrtvfgbyhnjumki,lo.p;/'\n",
    "# layout['cyletix31'] = 'qazwsxdecrtvfgbyhnkjmiu,lo.p;/'\n",
    "# layout['cyletix32'] = 'qazwsxdecrtvfgb;hnyjmki,lo.pu/'\n",
    "# layout['cyletix33'] = 'qazwsxdecrtvfgbyhnkjmui,lo.p;/'\n",
    "# layout['cyletix34'] = 'qazwsxdecrtvfgbyhnjlmki,po.;u/'\n",
    "# layout['cyletix4'] = 'qazwsxdecrtv/g,;h.jumkifloypnb'\n",
    "# layout['cyletix5'] = 'qazwsxdecrtv,gb.hnjumkifloyp;/'\n",
    "# layout['cyletix6'] = 'qazwsxdecrtv,gb.hnjumkiylo;pf/'\n",
    "# layout['cyletix7'] = 'qrzhsjdncftg;lbyuxwemvi,ko.pa/'\n",
    "# layout['cyletix8'] = 'qhrfnjdtczsg;lbyuxwemvi,ko.pa/'\n",
    "layout['cyletix10'] = 'qazwsxdecrtvfgb;hnjlmki,yo.pu/'\n",
    "\n",
    "layout['ga_best10'] =  'qazwsxyocrhv;db?kjltmgi,ue.pnf'\n",
    "layout['ga_best9'] = 'qazwsxyocfrvbd;?kjltmgi,ue.pnh'\n",
    "layout['ga_best4'] = 'qazwsxyncrfkdgb?l;utmvi,oe.phj'\n",
    "layout['ga_best41'] = 'qazwsxyncrfkdgb;ljutmvi,oe.ph/'\n",
    "layout['ga_best7'] = 'qa.yexgocksvjw;?dbfhmui,rnlptz'\n",
    "layout['ga_test8'] = 'yafwoxlscjrvqz;?kbdtmgi,ue.pnh'"
   ]
  },
  {
   "cell_type": "markdown",
   "metadata": {},
   "source": [
    "Calculate the total distance for the entire dataset."
   ]
  },
  {
   "cell_type": "code",
   "execution_count": 36,
   "metadata": {},
   "outputs": [
    {
     "data": {
      "text/plain": [
       "518358.48707694106"
      ]
     },
     "execution_count": 36,
     "metadata": {},
     "output_type": "execute_result"
    }
   ],
   "source": [
    "KeyboardLayout=(genome_to_keyboard(list(layout['cyletix10'])))\n",
    "total_distance(full_text['arxiv'], KeyboardLayout)"
   ]
  },
  {
   "cell_type": "markdown",
   "metadata": {},
   "source": [
    "### 连续重复手指次数计算"
   ]
  },
  {
   "cell_type": "code",
   "execution_count": 37,
   "metadata": {},
   "outputs": [
    {
     "name": "stdout",
     "output_type": "stream",
     "text": [
      "同一手指连续输入的次数为：92212\n"
     ]
    }
   ],
   "source": [
    "# 定义每个手指负责的键位\n",
    "fingerMap = {}\n",
    "for fingerIndex, keyIndexes in enumerate(keys_per_finger):\n",
    "    for index in keyIndexes:\n",
    "        fingerMap[index] = fingerIndex\n",
    "\n",
    "# 计算同一手指连续输入的次数\n",
    "def finger_repeat(text,KeyboardLayout):\n",
    "    sameFingerCount = 0\n",
    "    lastFinger = None\n",
    "    for char in text:\n",
    "        keyIndex = KeyboardLayout.get(char)  # 直接使用字典查找字符索引\n",
    "        if keyIndex is not None:\n",
    "            currentFinger = fingerMap.get(keyIndex)\n",
    "            if currentFinger is not None and currentFinger == lastFinger:\n",
    "                sameFingerCount += 1\n",
    "            lastFinger = currentFinger\n",
    "    return sameFingerCount\n",
    "\n",
    "# 在原有的数据处理基础上添加新功能\n",
    "KeyboardLayout=(genome_to_keyboard(list(layout['cyletix10'])))\n",
    "sameFingerRepeats = finger_repeat(full_text['arxiv'],KeyboardLayout)\n",
    "print(f\"同一手指连续输入的次数为：{sameFingerRepeats}\")\n"
   ]
  },
  {
   "cell_type": "markdown",
   "metadata": {},
   "source": [
    "### 定义汉明距离\n",
    "用于衡量两个布局的相似程度, 越小越相似"
   ]
  },
  {
   "cell_type": "code",
   "execution_count": 38,
   "metadata": {},
   "outputs": [
    {
     "name": "stdout",
     "output_type": "stream",
     "text": [
      "两个布局之间的汉明距离是: 12\n"
     ]
    }
   ],
   "source": [
    "def cal_hamming_distance(layout1, layout2):\n",
    "    if len(layout1) != len(layout2):\n",
    "        raise ValueError(\"两个布局必须有相同数量的键位\")\n",
    "    return sum(c1 != c2 for c1, c2 in zip(layout1, layout2))\n",
    "\n",
    "# 计算距离\n",
    "hamming_distance = cal_hamming_distance(layout['qwerty'], layout['cyletix10'])\n",
    "print(\"两个布局之间的汉明距离是:\", hamming_distance)\n"
   ]
  },
  {
   "cell_type": "markdown",
   "metadata": {},
   "source": [
    "### 优化距离\n",
    "定义一个新的距离, 这个距离的定义依赖于手指的分配, 在这个距离下如果两个布局之间的差异导致位置变化为1, 分配手指变化则距离为2; 如果左右手都改变的话, 距离为3"
   ]
  },
  {
   "cell_type": "code",
   "execution_count": 39,
   "metadata": {},
   "outputs": [
    {
     "name": "stdout",
     "output_type": "stream",
     "text": [
      "两个布局之间的改进距离是: 13\n"
     ]
    }
   ],
   "source": [
    "def cal_punish_distance(layout1, layout2):\n",
    "    if len(layout1) != len(layout2):\n",
    "        raise ValueError(\"两个布局必须有相同数量的键位\")\n",
    "\n",
    "\n",
    "    distance_punish=0\n",
    "    # 构建反向索引字典\n",
    "    layout1_dict = {}\n",
    "    for i, finger_keys in enumerate(keys_per_finger):\n",
    "        for j, key_index in enumerate(finger_keys):\n",
    "            value = layout1[key_index]\n",
    "            if value not in layout1_dict:\n",
    "                layout1_dict[value] = []\n",
    "            layout1_dict[value].append((i, j))\n",
    "\n",
    "    # 遍历 layout2 并检查是否存在于 layout1_dict\n",
    "    for i_1, finger_keys in enumerate(keys_per_finger):\n",
    "        for j_1, key_index in enumerate(finger_keys):\n",
    "            value = layout2[key_index]\n",
    "            if value in layout1_dict:\n",
    "                i_2, j_2 = layout1_dict[value][0]  # 获取第一个匹配的索引\n",
    "                break\n",
    "\n",
    "        # 判断同一手指是否在不同的列\n",
    "        if j_1 != j_2:\n",
    "            distance_punish += 1\n",
    "        \n",
    "        # 判断同一手指是否在不同的行，且在同一边（左手或右手）\n",
    "        if i_1 != i_2 and (i_1 - 5) * (i_2 - 4) > 0:\n",
    "            distance_punish += 1\n",
    "\n",
    "        # 判断同一手指是否跨越了中轴线（左右手交换）\n",
    "        if i_1 != i_2 and j_1 != j_2 and (i_1 - 5) * (i_2 - 4) < 0:\n",
    "            distance_punish += 1\n",
    "\n",
    "    return distance_punish\n",
    "\n",
    "# 计算距离\n",
    "advanced_distance = cal_punish_distance(layout['qwerty'], layout['devorak'])\n",
    "print(\"两个布局之间的改进距离是:\", advanced_distance)\n"
   ]
  },
  {
   "cell_type": "code",
   "execution_count": 40,
   "metadata": {},
   "outputs": [
    {
     "name": "stdout",
     "output_type": "stream",
     "text": [
      "Layout\tkeys\tarxiv\tchinese\tpython\thamming\tpunish\trepeat\n",
      "qwerty\tqazwsxedcrfvtgbyhnujmik,ol.p;/\t 905782\t506503\t103831\t0\t0\t176943\t\n",
      "qwertz\tqaywsxedcrfvtgbzhnujmik,ol.p;/\t 898213\t507934\t103601\t2\t2\t187169\t\n",
      "devorak\t/a;,oq.ejpukyixfdbghmctwrnvlsz\t 500412\t325192\t69279\t28\t13\t148019\t\n",
      "colemak\tqazwrxfscptvgdbjhklnmue,yi.;o?\t 417029\t316830\t60409\t18\t5\t103387\t\n",
      "rstlne\tqagwsxdecfrvzl/;hbunjkimyo,pt.\t 415583\t314191\t61834\t20\t4\t151085\t\n",
      "cyletix10\tqazwsxdecrtvfgb;hnjlmki,yo.pu/\t 518358\t331261\t65249\t12\t4\t141764\t\n",
      "cyletix101\tqazwsxedcrtvfgb;hnjlmki,yo.pu/\t 615031\t351860\t75023\t10\t3\t141764\t\n",
      "ga_best101\tqazwsxyocrfvhdb;knjtmgi,ue.pl/\t 524626\t376467\t63442\t13\t4\t115560\t\n",
      "ga_best10\tqazwsxyocrhv;db?kjltmgi,ue.pnf\t 441359\t264343\t63758\t16\t2\t90477\t\n",
      "ga_best9\tqazwsxyocfrvbd;?kjltmgi,ue.pnh\t 406364\t291661\t59034\t18\t2\t84855\t\n",
      "ga_best4\tqazwsxyncrfkdgb?l;utmvi,oe.phj\t 507472\t285563\t68982\t13\t1\t115694\t\n",
      "ga_best41\tqazwsxyncrfkdgb;ljutmvi,oe.ph/\t 507707\t288977\t69445\t12\t3\t119509\t\n",
      "ga_best7\tqa.yexgocksvjw;?dbfhmui,rnlptz\t 422181\t251542\t63462\t22\t6\t76961\t\n",
      "ga_test8\tyafwoxlscjrvqz;?kbdtmgi,ue.pnh\t 410155\t288508\t59124\t21\t4\t84519\t\n"
     ]
    }
   ],
   "source": [
    "# 结果汇总\n",
    "print(f\"Layout\\tkeys\\tarxiv\\tchinese\\tpython\\thamming\\tpunish\\trepeat\")\n",
    "\n",
    "for layout_name, keys in layout.items():\n",
    "    KeyboardLayout=(genome_to_keyboard(list(layout[layout_name]))) \n",
    "    results = []\n",
    "    for language, text in full_text.items():\n",
    "        distance = total_distance(text, KeyboardLayout)\n",
    "        results.append(f\"{int(distance)}\\t\")\n",
    "    results.append(f\"{cal_hamming_distance(layout['qwerty'], keys)}\\t\")\n",
    "    results.append(f\"{cal_punish_distance(layout['qwerty'], keys)}\\t\")\n",
    "    repeat_count = 0\n",
    "    for language, text in full_text.items():\n",
    "        repeat_count += finger_repeat(full_text[language],KeyboardLayout)\n",
    "    results.append(f\"{repeat_count}\\t\")\n",
    "    print(f\"{layout_name}\\t{keys}\\t\", \"\".join(results))"
   ]
  },
  {
   "cell_type": "code",
   "execution_count": 20,
   "metadata": {},
   "outputs": [
    {
     "name": "stdout",
     "output_type": "stream",
     "text": [
      "{15: ';', 23: ',', 26: '.', 29: '/'}\n"
     ]
    }
   ],
   "source": [
    "def extract_punctuation_positions(s):\n",
    "    return {i: char for i, char in enumerate(s) if not char.isalnum()}\n",
    "\n",
    "\n",
    "# 调用函数并打印结果\n",
    "fixed_positions = extract_punctuation_positions(layout['cyletix10'])\n",
    "print(fixed_positions)\n"
   ]
  },
  {
   "cell_type": "markdown",
   "metadata": {},
   "source": [
    "## Genetic Algorithm\n",
    "\n",
    "### Initialize the population\n",
    "\n",
    "This function will initialize the population for the first generation with random keyboards for a given population size."
   ]
  },
  {
   "cell_type": "code",
   "execution_count": 25,
   "metadata": {},
   "outputs": [],
   "source": [
    "def init_population(pop_size):\n",
    "    keyboard_chars = list(layout['colemak'])\n",
    "    population = []\n",
    "    for i in range(pop_size):\n",
    "        \n",
    "        # rand_gnome = keyboard_chars[:]\n",
    "        # random.shuffle(rand_gnome)\n",
    "        letters = [char for char in keyboard_chars if char.isalpha()]\n",
    "        punctua = [(index, char) for index, char in enumerate(keyboard_chars) if not char.isalpha()]\n",
    "        random.shuffle(letters)\n",
    "        rand_gnome = [letters.pop(0) if index not in [p_index for p_index, p_char in punctua] else char for index, char in enumerate(keyboard_chars)]\n",
    "\n",
    "        population.append(rand_gnome)\n",
    "    return population"
   ]
  },
  {
   "cell_type": "code",
   "execution_count": 22,
   "metadata": {},
   "outputs": [
    {
     "name": "stdout",
     "output_type": "stream",
     "text": [
      "qazwsxdecrtvfgb;hnjlmki,yo.pu/\n",
      "gqchmkeyfzjlpiu;bxnvadr,ot.ws/\n"
     ]
    }
   ],
   "source": [
    "# 洗牌测试\n",
    "keyboard_chars = list(layout['cyletix10'])     \n",
    "letters = [char for char in keyboard_chars if char.isalpha()]\n",
    "punctua = [(index, char) for index, char in enumerate(keyboard_chars) if not char.isalpha()]\n",
    "random.shuffle(letters)\n",
    "rand_gnome = [letters.pop(0) if index not in [p_index for p_index, p_char in punctua] else char for index, char in enumerate(keyboard_chars)]\n",
    "\n",
    "result = ''.join(rand_gnome)\n",
    "print(layout['cyletix10'])\n",
    "print(result)"
   ]
  },
  {
   "cell_type": "markdown",
   "metadata": {},
   "source": [
    "### Combine two keyboards\n",
    "\n",
    "This function defines the logic for \"mating\" two keyboards to create a new keyboard. The function will select a random point to split the keyboards. It will begin filling in the child keyboard to the right of the split point with a random number of keys from the first keyboard. It will then fill in the remaining keys with keys from keyboard 2. There is also a random chance of mutation where two keys on the child keyboard will switch places."
   ]
  },
  {
   "cell_type": "code",
   "execution_count": 26,
   "metadata": {},
   "outputs": [],
   "source": [
    "def mate(board1, board2, mutation_rate):\n",
    "    keyboard_size = len(board1)\n",
    "    idx = random.randint(0, keyboard_size-1)\n",
    "    length = random.randint(0,keyboard_size-1)\n",
    "    child = ['_' for i in range(keyboard_size)]\n",
    "    for i in range(length):\n",
    "        if idx > keyboard_size-1:\n",
    "            idx = 0\n",
    "        child[idx] = board1[idx]\n",
    "        idx += 1\n",
    "\n",
    "    child_idx = idx\n",
    "    while '_' in child:\n",
    "        if idx > keyboard_size-1:\n",
    "            idx = 0\n",
    "        if child_idx > keyboard_size-1:\n",
    "            child_idx = 0\n",
    "        char = board2[idx]\n",
    "        if char in child:\n",
    "            idx += 1\n",
    "            continue\n",
    "        child[child_idx] = board2[idx]\n",
    "        child_idx += 1\n",
    "        idx += 1\n",
    "        \n",
    "    prob = random.random()\n",
    "    if prob < mutation_rate:\n",
    "        point1 = random.randint(0, keyboard_size-1)\n",
    "        point2 = random.randint(0, keyboard_size-1)\n",
    "        allele1 = child[point1]\n",
    "        allele2 = child[point2]\n",
    "        child[point1] = allele2\n",
    "        child[point2] = allele1\n",
    "        \n",
    "    return ''.join(child)"
   ]
  },
  {
   "cell_type": "markdown",
   "metadata": {},
   "source": [
    "### Evaluate the population\n",
    "\n",
    "This function will evaluate a given population by calcualating the total distance for each keyboard in the population. It returns the evals as a dictionary. It also returns the indicies sorted in order of the total distance of the keyboard at that index."
   ]
  },
  {
   "cell_type": "code",
   "execution_count": 27,
   "metadata": {},
   "outputs": [],
   "source": [
    "def get_evals(population):\n",
    "    evals = {}\n",
    "    for i, genome in enumerate(population):\n",
    "        keyboard = genome_to_keyboard(genome)\n",
    "        \n",
    "        dist = total_distance(total_full_text, keyboard)\n",
    "\n",
    "        repeat_count = finger_repeat(total_full_text,keyboard) #重复\n",
    "        # evals[i] = int(dist*(repeat_count+20)/20000000) #dist\n",
    "\n",
    "        # dist_qwerty=total_distance(total_full_text,genome_to_keyboard(layout['qwerty']))\n",
    "        pop_hamming_dist=cal_hamming_distance(layout['qwerty'], genome)\n",
    "        pop_punish_dist=cal_punish_distance(layout['qwerty'], genome)\n",
    "        evals[i] = int((dist+repeat_count*2)*(pop_hamming_dist+pop_punish_dist*0.5+10)/200000) #dist\n",
    "\n",
    "    sorted_evals = [k for k, v in sorted(evals.items(), key=lambda item: item[1])]\n",
    "    return evals, sorted_evals"
   ]
  },
  {
   "cell_type": "markdown",
   "metadata": {},
   "source": [
    "### Create next generation\n",
    "\n",
    "This function will create a new generation from the current population. It will directly copy the top 10% best keyboards from the current generation to the next generation. It will then randomly combine keyboards from the top 50% best keyboards to create the remaining population for the next generation."
   ]
  },
  {
   "cell_type": "code",
   "execution_count": 28,
   "metadata": {},
   "outputs": [],
   "source": [
    "def new_generation(population, sorted_evals, p_size, mutation_rate):\n",
    "    new_gen = []\n",
    "    \n",
    "    sorted_population = []\n",
    "    for i in sorted_evals:\n",
    "        sorted_population.append(population[i])\n",
    "        \n",
    "    for i in range(int(p_size*0.1)):\n",
    "        new_gen.append(sorted_population[i])\n",
    "\n",
    "    for _ in range(int(p_size*0.9)):\n",
    "        p1 = random.choice(sorted_population[:int(p_size*0.5)])\n",
    "        p2 = random.choice(sorted_population[:int(p_size*0.5)])\n",
    "        child = mate(p1, p2, mutation_rate)\n",
    "        new_gen.append(child)\n",
    "    \n",
    "    return new_gen"
   ]
  },
  {
   "cell_type": "markdown",
   "metadata": {},
   "source": [
    "### Run the algorithm\n",
    "\n",
    "The following code will run the genetic algorithm. Adjust the constants `P_SIZE` to change the population size, `GENERATIONS` to change the total number of generations the algorithm will run, and `MUTATION_RATE` to change how often mutations occur during mating. The training data will be stored to the `learning` dictionary and be saved to a json file once the algorithm is complete. This will contain information for each generation. It will contain the total every keyboard in the population, the best keyboard in the population, the lowest distance of the best keyboard, and the average distance of all the keyboards."
   ]
  },
  {
   "cell_type": "code",
   "execution_count": 26,
   "metadata": {},
   "outputs": [],
   "source": [
    "P_SIZE = 100\n",
    "GENERATIONS = 300\n",
    "MUTATION_RATE = 0.8\n",
    "\n",
    "learning = {\n",
    "    'generations': {}\n",
    "}"
   ]
  },
  {
   "cell_type": "markdown",
   "metadata": {},
   "source": [
    "### 加载种群状态"
   ]
  },
  {
   "cell_type": "code",
   "execution_count": 27,
   "metadata": {},
   "outputs": [],
   "source": [
    "LEARNING_JSON = 'output/learning14.json'\n",
    "\n",
    "def load_population():\n",
    "    if os.path.exists(LEARNING_JSON):\n",
    "        with open(LEARNING_JSON, 'r') as fp:\n",
    "            data = json.load(fp)\n",
    "            last_gen_number = max(data['generations'].keys(), key=int)\n",
    "            last_generation = data['generations'][last_gen_number]\n",
    "            return last_generation['population'], int(last_gen_number) + 1\n",
    "    else:\n",
    "        return init_population(P_SIZE), 0  # 初始化种群如果没有现成的学习状态\n",
    "\n",
    "population, start_generation = load_population()"
   ]
  },
  {
   "cell_type": "markdown",
   "metadata": {},
   "source": [
    "### 开始进化"
   ]
  },
  {
   "cell_type": "code",
   "execution_count": 28,
   "metadata": {},
   "outputs": [
    {
     "name": "stdout",
     "output_type": "stream",
     "text": [
      "GEN: 1, AVG: 252.63, MIN: 180, BEST: qazwsxyocfrvbd;?kjltmgi,ue.pnh\n",
      "GEN: 2, AVG: 237.34, MIN: 180, BEST: qazwsxyocfrvbd;?kjltmgi,ue.pnh\n",
      "GEN: 3, AVG: 247.23, MIN: 180, BEST: qazwsxyocfrvbd;?kjltmgi,ue.pnh\n",
      "GEN: 4, AVG: 245.07, MIN: 180, BEST: qazwsxyocfrvbd;?kjltmgi,ue.pnh\n",
      "GEN: 5, AVG: 239.9, MIN: 180, BEST: qazwsxyocfrvbd;?kjltmgi,ue.pnh\n",
      "GEN: 6, AVG: 234.69, MIN: 178, BEST: qazwsxyocfrv;db?kjltmgi,ue.pnh\n",
      "GEN: 7, AVG: 247.38, MIN: 178, BEST: qazwsxyocfrv;db?kjltmgi,ue.pnh\n",
      "GEN: 8, AVG: 254.84, MIN: 178, BEST: qazwsxyocfrv;db?kjltmgi,ue.pnh\n",
      "GEN: 9, AVG: 266.39, MIN: 178, BEST: qazwsxyocfrv;db?kjltmgi,ue.pnh\n",
      "GEN: 10, AVG: 261.94, MIN: 178, BEST: qazwsxyocfrv;db?kjltmgi,ue.pnh\n",
      "GEN: 11, AVG: 248.35, MIN: 178, BEST: qazwsxyocfrv;db?kjltmgi,ue.pnh\n",
      "GEN: 12, AVG: 253.62, MIN: 178, BEST: qazwsxyocfrv;db?kjltmgi,ue.pnh\n",
      "GEN: 13, AVG: 255.72, MIN: 178, BEST: qazwsxyocfrv;db?kjltmgi,ue.pnh\n",
      "GEN: 14, AVG: 271.88, MIN: 178, BEST: qazwsxyocfrv;db?kjltmgi,ue.pnh\n",
      "GEN: 15, AVG: 266.53, MIN: 178, BEST: qazwsxyocfrv;db?kjltmgi,ue.pnh\n",
      "GEN: 16, AVG: 259.71, MIN: 178, BEST: qazwsxyocfrv;db?kjltmgi,ue.pnh\n",
      "GEN: 17, AVG: 246.04, MIN: 178, BEST: qazwsxyocfrv;db?kjltmgi,ue.pnh\n",
      "GEN: 18, AVG: 241.99, MIN: 178, BEST: qazwsxyocfrv;db?kjltmgi,ue.pnh\n",
      "GEN: 19, AVG: 231.44, MIN: 178, BEST: qazwsxyocfrv;db?kjltmgi,ue.pnh\n",
      "GEN: 20, AVG: 233.26, MIN: 178, BEST: qazwsxyocfrv;db?kjltmgi,ue.pnh\n",
      "GEN: 21, AVG: 251.79, MIN: 178, BEST: qazwsxyocfrv;db?kjltmgi,ue.pnh\n",
      "GEN: 22, AVG: 244.03, MIN: 178, BEST: qazwsxyocfrv;db?kjltmgi,ue.pnh\n",
      "GEN: 23, AVG: 235.28, MIN: 178, BEST: qazwsxyocfrv;db?kjltmgi,ue.pnh\n",
      "GEN: 24, AVG: 252.7, MIN: 178, BEST: qazwsxyocfrv;db?kjltmgi,ue.pnh\n",
      "GEN: 25, AVG: 243.29, MIN: 178, BEST: qazwsxyocfrv;db?kjltmgi,ue.pnh\n",
      "GEN: 26, AVG: 259.18, MIN: 178, BEST: qazwsxyocfrv;db?kjltmgi,ue.pnh\n",
      "GEN: 27, AVG: 253.77, MIN: 178, BEST: qazwsxyocfrv;db?kjltmgi,ue.pnh\n",
      "GEN: 28, AVG: 255.86, MIN: 178, BEST: qazwsxyocfrv;db?kjltmgi,ue.pnh\n",
      "GEN: 29, AVG: 245.17, MIN: 178, BEST: qazwsxyocfrv;db?kjltmgi,ue.pnh\n",
      "GEN: 30, AVG: 239.92, MIN: 178, BEST: qazwsxyocfrv;db?kjltmgi,ue.pnh\n",
      "GEN: 31, AVG: 237.55, MIN: 178, BEST: qazwsxyocfrv;db?kjltmgi,ue.pnh\n",
      "GEN: 32, AVG: 237.46, MIN: 178, BEST: qazwsxyocfrv;db?kjltmgi,ue.pnh\n",
      "GEN: 33, AVG: 249.1, MIN: 178, BEST: qazwsxyocfrv;db?kjltmgi,ue.pnh\n",
      "GEN: 34, AVG: 260.04, MIN: 178, BEST: qazwsxyocfrv;db?kjltmgi,ue.pnh\n",
      "GEN: 35, AVG: 254.75, MIN: 178, BEST: qazwsxyocfrv;db?kjltmgi,ue.pnh\n",
      "GEN: 36, AVG: 236.1, MIN: 176, BEST: qazwsxyocrfv;db?kjltmgi,ue.pnh\n",
      "GEN: 37, AVG: 225.78, MIN: 176, BEST: qazwsxyocrfv;db?kjltmgi,ue.pnh\n",
      "GEN: 38, AVG: 240.75, MIN: 176, BEST: qazwsxyocrfv;db?kjltmgi,ue.pnh\n",
      "GEN: 39, AVG: 257.86, MIN: 176, BEST: qazwsxyocrfv;db?kjltmgi,ue.pnh\n",
      "GEN: 40, AVG: 254.38, MIN: 176, BEST: qazwsxyocrfv;db?kjltmgi,ue.pnh\n",
      "GEN: 41, AVG: 239.67, MIN: 176, BEST: qazwsxyocrfv;db?kjltmgi,ue.pnh\n",
      "GEN: 42, AVG: 226.71, MIN: 176, BEST: qazwsxyocrfv;db?kjltmgi,ue.pnh\n",
      "GEN: 43, AVG: 243.92, MIN: 176, BEST: qazwsxyocrfv;db?kjltmgi,ue.pnh\n",
      "GEN: 44, AVG: 233.26, MIN: 176, BEST: qazwsxyocrfv;db?kjltmgi,ue.pnh\n",
      "GEN: 45, AVG: 233.4, MIN: 176, BEST: qazwsxyocrfv;db?kjltmgi,ue.pnh\n",
      "GEN: 46, AVG: 242.57, MIN: 176, BEST: qazwsxyocrfv;db?kjltmgi,ue.pnh\n",
      "GEN: 47, AVG: 244.58, MIN: 176, BEST: qazwsxyocrfv;db?kjltmgi,ue.pnh\n",
      "GEN: 48, AVG: 248.3, MIN: 176, BEST: qazwsxyocrfv;db?kjltmgi,ue.pnh\n",
      "GEN: 49, AVG: 255.74, MIN: 176, BEST: qazwsxyocrfv;db?kjltmgi,ue.pnh\n",
      "GEN: 50, AVG: 249.21, MIN: 176, BEST: qazwsxyocrfv;db?kjltmgi,ue.pnh\n",
      "GEN: 51, AVG: 240.21, MIN: 176, BEST: qazwsxyocrfv;db?kjltmgi,ue.pnh\n",
      "GEN: 52, AVG: 239.68, MIN: 176, BEST: qazwsxyocrfv;db?kjltmgi,ue.pnh\n",
      "GEN: 53, AVG: 249.56, MIN: 176, BEST: qazwsxyocrfv;db?kjltmgi,ue.pnh\n",
      "GEN: 54, AVG: 257.78, MIN: 176, BEST: qazwsxyocrfv;db?kjltmgi,ue.pnh\n",
      "GEN: 55, AVG: 249.6, MIN: 176, BEST: qazwsxyocrfv;db?kjltmgi,ue.pnh\n",
      "GEN: 56, AVG: 264.53, MIN: 176, BEST: qazwsxyocrfv;db?kjltmgi,ue.pnh\n",
      "GEN: 57, AVG: 256.53, MIN: 176, BEST: qazwsxyocrfv;db?kjltmgi,ue.pnh\n",
      "GEN: 58, AVG: 246.75, MIN: 176, BEST: qazwsxyocrfv;db?kjltmgi,ue.pnh\n",
      "GEN: 59, AVG: 255.76, MIN: 176, BEST: qazwsxyocrfv;db?kjltmgi,ue.pnh\n",
      "GEN: 60, AVG: 240.85, MIN: 176, BEST: qazwsxyocrfv;db?kjltmgi,ue.pnh\n",
      "GEN: 61, AVG: 238.68, MIN: 176, BEST: qazwsxyocrfv;db?kjltmgi,ue.pnh\n",
      "GEN: 62, AVG: 238.11, MIN: 176, BEST: qazwsxyocrfv;db?kjltmgi,ue.pnh\n",
      "GEN: 63, AVG: 253.33, MIN: 176, BEST: qazwsxyocrfv;db?kjltmgi,ue.pnh\n",
      "GEN: 64, AVG: 243.71, MIN: 176, BEST: qazwsxyocrfv;db?kjltmgi,ue.pnh\n",
      "GEN: 65, AVG: 236.44, MIN: 176, BEST: qazwsxyocrfv;db?kjltmgi,ue.pnh\n",
      "GEN: 66, AVG: 231.99, MIN: 176, BEST: qazwsxyocrfv;db?kjltmgi,ue.pnh\n",
      "GEN: 67, AVG: 249.15, MIN: 176, BEST: qazwsxyocrfv;db?kjltmgi,ue.pnh\n",
      "GEN: 68, AVG: 255.67, MIN: 176, BEST: qazwsxyocrfv;db?kjltmgi,ue.pnh\n",
      "GEN: 69, AVG: 237.7, MIN: 176, BEST: qazwsxyocrfv;db?kjltmgi,ue.pnh\n",
      "GEN: 70, AVG: 228.16, MIN: 176, BEST: qazwsxyocrfv;db?kjltmgi,ue.pnh\n",
      "GEN: 71, AVG: 236.41, MIN: 176, BEST: qazwsxyocrfv;db?kjltmgi,ue.pnh\n",
      "GEN: 72, AVG: 246.7, MIN: 176, BEST: qazwsxyocrfv;db?kjltmgi,ue.pnh\n",
      "GEN: 73, AVG: 256.07, MIN: 176, BEST: qazwsxyocrfv;db?kjltmgi,ue.pnh\n",
      "GEN: 74, AVG: 245.95, MIN: 176, BEST: qazwsxyocrfv;db?kjltmgi,ue.pnh\n",
      "GEN: 75, AVG: 252.39, MIN: 176, BEST: qazwsxyocrfv;db?kjltmgi,ue.pnh\n",
      "GEN: 76, AVG: 250.96, MIN: 176, BEST: qazwsxyocrfv;db?kjltmgi,ue.pnh\n",
      "GEN: 77, AVG: 250.14, MIN: 176, BEST: qazwsxyocrfv;db?kjltmgi,ue.pnh\n",
      "GEN: 78, AVG: 243.34, MIN: 176, BEST: qazwsxyocrfv;db?kjltmgi,ue.pnh\n",
      "GEN: 79, AVG: 234.76, MIN: 176, BEST: qazwsxyocrfv;db?kjltmgi,ue.pnh\n",
      "GEN: 80, AVG: 230.22, MIN: 176, BEST: qazwsxyocrfv;db?kjltmgi,ue.pnh\n",
      "GEN: 81, AVG: 239.85, MIN: 176, BEST: qazwsxyocrfv;db?kjltmgi,ue.pnh\n",
      "GEN: 82, AVG: 232.28, MIN: 176, BEST: qazwsxyocrfv;db?kjltmgi,ue.pnh\n",
      "GEN: 83, AVG: 241.52, MIN: 176, BEST: qazwsxyocrfv;db?kjltmgi,ue.pnh\n",
      "GEN: 84, AVG: 224.37, MIN: 176, BEST: qazwsxyocrfv;db?kjltmgi,ue.pnh\n",
      "GEN: 85, AVG: 243.7, MIN: 176, BEST: qazwsxyocrfv;db?kjltmgi,ue.pnh\n",
      "GEN: 86, AVG: 229.42, MIN: 176, BEST: qazwsxyocrfv;db?kjltmgi,ue.pnh\n",
      "GEN: 87, AVG: 229.97, MIN: 175, BEST: qazwsxyocrhv;db?kjltmgi,ue.pnf\n",
      "GEN: 88, AVG: 225.7, MIN: 175, BEST: qazwsxyocrhv;db?kjltmgi,ue.pnf\n",
      "GEN: 89, AVG: 239.65, MIN: 175, BEST: qazwsxyocrhv;db?kjltmgi,ue.pnf\n",
      "GEN: 90, AVG: 233.38, MIN: 175, BEST: qazwsxyocrhv;db?kjltmgi,ue.pnf\n",
      "GEN: 91, AVG: 236.58, MIN: 175, BEST: qazwsxyocrhv;db?kjltmgi,ue.pnf\n",
      "GEN: 92, AVG: 245.53, MIN: 175, BEST: qazwsxyocrhv;db?kjltmgi,ue.pnf\n",
      "GEN: 93, AVG: 248.64, MIN: 175, BEST: qazwsxyocrhv;db?kjltmgi,ue.pnf\n",
      "GEN: 94, AVG: 225.94, MIN: 175, BEST: qazwsxyocrhv;db?kjltmgi,ue.pnf\n",
      "GEN: 95, AVG: 248.25, MIN: 175, BEST: qazwsxyocrhv;db?kjltmgi,ue.pnf\n",
      "GEN: 96, AVG: 261.31, MIN: 175, BEST: qazwsxyocrhv;db?kjltmgi,ue.pnf\n",
      "GEN: 97, AVG: 259.61, MIN: 175, BEST: qazwsxyocrhv;db?kjltmgi,ue.pnf\n",
      "GEN: 98, AVG: 253.48, MIN: 175, BEST: qazwsxyocrhv;db?kjltmgi,ue.pnf\n",
      "GEN: 99, AVG: 247.68, MIN: 175, BEST: qazwsxyocrhv;db?kjltmgi,ue.pnf\n",
      "GEN: 100, AVG: 247.88, MIN: 175, BEST: qazwsxyocrhv;db?kjltmgi,ue.pnf\n",
      "GEN: 101, AVG: 257.85, MIN: 175, BEST: qazwsxyocrhv;db?kjltmgi,ue.pnf\n",
      "GEN: 102, AVG: 251.9, MIN: 175, BEST: qazwsxyocrhv;db?kjltmgi,ue.pnf\n",
      "GEN: 103, AVG: 257.67, MIN: 175, BEST: qazwsxyocrhv;db?kjltmgi,ue.pnf\n",
      "GEN: 104, AVG: 264.83, MIN: 175, BEST: qazwsxyocrhv;db?kjltmgi,ue.pnf\n",
      "GEN: 105, AVG: 272.74, MIN: 175, BEST: qazwsxyocrhv;db?kjltmgi,ue.pnf\n",
      "GEN: 106, AVG: 280.14, MIN: 175, BEST: qazwsxyocrhv;db?kjltmgi,ue.pnf\n",
      "GEN: 107, AVG: 287.67, MIN: 175, BEST: qazwsxyocrhv;db?kjltmgi,ue.pnf\n",
      "GEN: 108, AVG: 292.02, MIN: 175, BEST: qazwsxyocrhv;db?kjltmgi,ue.pnf\n",
      "GEN: 109, AVG: 261.1, MIN: 175, BEST: qazwsxyocrhv;db?kjltmgi,ue.pnf\n",
      "GEN: 110, AVG: 259.54, MIN: 175, BEST: qazwsxyocrhv;db?kjltmgi,ue.pnf\n",
      "GEN: 111, AVG: 245.95, MIN: 175, BEST: qazwsxyocrhv;db?kjltmgi,ue.pnf\n",
      "GEN: 112, AVG: 246.05, MIN: 175, BEST: qazwsxyocrhv;db?kjltmgi,ue.pnf\n",
      "GEN: 113, AVG: 238.43, MIN: 175, BEST: qazwsxyocrhv;db?kjltmgi,ue.pnf\n",
      "GEN: 114, AVG: 235.87, MIN: 175, BEST: qazwsxyocrhv;db?kjltmgi,ue.pnf\n",
      "GEN: 115, AVG: 238.74, MIN: 175, BEST: qazwsxyocrhv;db?kjltmgi,ue.pnf\n",
      "GEN: 116, AVG: 240.17, MIN: 175, BEST: qazwsxyocrhv;db?kjltmgi,ue.pnf\n",
      "GEN: 117, AVG: 250.89, MIN: 175, BEST: qazwsxyocrhv;db?kjltmgi,ue.pnf\n",
      "GEN: 118, AVG: 256.37, MIN: 175, BEST: qazwsxyocrhv;db?kjltmgi,ue.pnf\n",
      "GEN: 119, AVG: 257.32, MIN: 175, BEST: qazwsxyocrhv;db?kjltmgi,ue.pnf\n",
      "GEN: 120, AVG: 248.14, MIN: 175, BEST: qazwsxyocrhv;db?kjltmgi,ue.pnf\n",
      "GEN: 121, AVG: 257.4, MIN: 175, BEST: qazwsxyocrhv;db?kjltmgi,ue.pnf\n",
      "GEN: 122, AVG: 257.13, MIN: 175, BEST: qazwsxyocrhv;db?kjltmgi,ue.pnf\n",
      "GEN: 123, AVG: 252.32, MIN: 175, BEST: qazwsxyocrhv;db?kjltmgi,ue.pnf\n",
      "GEN: 124, AVG: 260.84, MIN: 175, BEST: qazwsxyocrhv;db?kjltmgi,ue.pnf\n",
      "GEN: 125, AVG: 258.36, MIN: 175, BEST: qazwsxyocrhv;db?kjltmgi,ue.pnf\n",
      "GEN: 126, AVG: 258.25, MIN: 175, BEST: qazwsxyocrhv;db?kjltmgi,ue.pnf\n",
      "GEN: 127, AVG: 260.36, MIN: 175, BEST: qazwsxyocrhv;db?kjltmgi,ue.pnf\n",
      "GEN: 128, AVG: 242.03, MIN: 175, BEST: qazwsxyocrhv;db?kjltmgi,ue.pnf\n",
      "GEN: 129, AVG: 239.33, MIN: 175, BEST: qazwsxyocrhv;db?kjltmgi,ue.pnf\n",
      "GEN: 130, AVG: 240.56, MIN: 175, BEST: qazwsxyocrhv;db?kjltmgi,ue.pnf\n",
      "GEN: 131, AVG: 246.84, MIN: 175, BEST: qazwsxyocrhv;db?kjltmgi,ue.pnf\n",
      "GEN: 132, AVG: 242.1, MIN: 175, BEST: qazwsxyocrhv;db?kjltmgi,ue.pnf\n",
      "GEN: 133, AVG: 243.92, MIN: 175, BEST: qazwsxyocrhv;db?kjltmgi,ue.pnf\n",
      "GEN: 134, AVG: 251.25, MIN: 175, BEST: qazwsxyocrhv;db?kjltmgi,ue.pnf\n",
      "GEN: 135, AVG: 241.35, MIN: 175, BEST: qazwsxyocrhv;db?kjltmgi,ue.pnf\n",
      "GEN: 136, AVG: 252.84, MIN: 175, BEST: qazwsxyocrhv;db?kjltmgi,ue.pnf\n",
      "GEN: 137, AVG: 234.5, MIN: 175, BEST: qazwsxyocrhv;db?kjltmgi,ue.pnf\n",
      "GEN: 138, AVG: 227.93, MIN: 175, BEST: qazwsxyocrhv;db?kjltmgi,ue.pnf\n",
      "GEN: 139, AVG: 223.82, MIN: 175, BEST: qazwsxyocrhv;db?kjltmgi,ue.pnf\n",
      "GEN: 140, AVG: 235.6, MIN: 175, BEST: qazwsxyocrhv;db?kjltmgi,ue.pnf\n",
      "GEN: 141, AVG: 228.3, MIN: 175, BEST: qazwsxyocrhv;db?kjltmgi,ue.pnf\n",
      "GEN: 142, AVG: 234.83, MIN: 175, BEST: qazwsxyocrhv;db?kjltmgi,ue.pnf\n",
      "GEN: 143, AVG: 240.34, MIN: 175, BEST: qazwsxyocrhv;db?kjltmgi,ue.pnf\n",
      "GEN: 144, AVG: 259.79, MIN: 175, BEST: qazwsxyocrhv;db?kjltmgi,ue.pnf\n",
      "GEN: 145, AVG: 265.18, MIN: 175, BEST: qazwsxyocrhv;db?kjltmgi,ue.pnf\n",
      "GEN: 146, AVG: 256.22, MIN: 175, BEST: qazwsxyocrhv;db?kjltmgi,ue.pnf\n",
      "GEN: 147, AVG: 250.53, MIN: 175, BEST: qazwsxyocrhv;db?kjltmgi,ue.pnf\n",
      "GEN: 148, AVG: 253.49, MIN: 175, BEST: qazwsxyocrhv;db?kjltmgi,ue.pnf\n",
      "GEN: 149, AVG: 250.54, MIN: 175, BEST: qazwsxyocrhv;db?kjltmgi,ue.pnf\n",
      "GEN: 150, AVG: 244.18, MIN: 175, BEST: qazwsxyocrhv;db?kjltmgi,ue.pnf\n",
      "GEN: 151, AVG: 247.88, MIN: 175, BEST: qazwsxyocrhv;db?kjltmgi,ue.pnf\n",
      "GEN: 152, AVG: 242.93, MIN: 175, BEST: qazwsxyocrhv;db?kjltmgi,ue.pnf\n",
      "GEN: 153, AVG: 229.95, MIN: 175, BEST: qazwsxyocrhv;db?kjltmgi,ue.pnf\n",
      "GEN: 154, AVG: 237.98, MIN: 175, BEST: qazwsxyocrhv;db?kjltmgi,ue.pnf\n",
      "GEN: 155, AVG: 247.03, MIN: 175, BEST: qazwsxyocrhv;db?kjltmgi,ue.pnf\n",
      "GEN: 156, AVG: 247.26, MIN: 175, BEST: qazwsxyocrhv;db?kjltmgi,ue.pnf\n",
      "GEN: 157, AVG: 240.28, MIN: 175, BEST: qazwsxyocrhv;db?kjltmgi,ue.pnf\n",
      "GEN: 158, AVG: 240.42, MIN: 175, BEST: qazwsxyocrhv;db?kjltmgi,ue.pnf\n",
      "GEN: 159, AVG: 227.72, MIN: 175, BEST: qazwsxyocrhv;db?kjltmgi,ue.pnf\n",
      "GEN: 160, AVG: 224.66, MIN: 175, BEST: qazwsxyocrhv;db?kjltmgi,ue.pnf\n",
      "GEN: 161, AVG: 239.52, MIN: 175, BEST: qazwsxyocrhv;db?kjltmgi,ue.pnf\n",
      "GEN: 162, AVG: 252.54, MIN: 175, BEST: qazwsxyocrhv;db?kjltmgi,ue.pnf\n",
      "GEN: 163, AVG: 251.02, MIN: 175, BEST: qazwsxyocrhv;db?kjltmgi,ue.pnf\n",
      "GEN: 164, AVG: 254.56, MIN: 175, BEST: qazwsxyocrhv;db?kjltmgi,ue.pnf\n",
      "GEN: 165, AVG: 256.06, MIN: 175, BEST: qazwsxyocrhv;db?kjltmgi,ue.pnf\n",
      "GEN: 166, AVG: 258.33, MIN: 175, BEST: qazwsxyocrhv;db?kjltmgi,ue.pnf\n",
      "GEN: 167, AVG: 276.04, MIN: 175, BEST: qazwsxyocrhv;db?kjltmgi,ue.pnf\n",
      "GEN: 168, AVG: 259.98, MIN: 175, BEST: qazwsxyocrhv;db?kjltmgi,ue.pnf\n",
      "GEN: 169, AVG: 268.68, MIN: 175, BEST: qazwsxyocrhv;db?kjltmgi,ue.pnf\n",
      "GEN: 170, AVG: 258.27, MIN: 175, BEST: qazwsxyocrhv;db?kjltmgi,ue.pnf\n",
      "GEN: 171, AVG: 255.7, MIN: 175, BEST: qazwsxyocrhv;db?kjltmgi,ue.pnf\n",
      "GEN: 172, AVG: 250.53, MIN: 175, BEST: qazwsxyocrhv;db?kjltmgi,ue.pnf\n",
      "GEN: 173, AVG: 231.44, MIN: 175, BEST: qazwsxyocrhv;db?kjltmgi,ue.pnf\n",
      "GEN: 174, AVG: 239.45, MIN: 175, BEST: qazwsxyocrhv;db?kjltmgi,ue.pnf\n",
      "GEN: 175, AVG: 233.56, MIN: 175, BEST: qazwsxyocrhv;db?kjltmgi,ue.pnf\n",
      "GEN: 176, AVG: 243.84, MIN: 175, BEST: qazwsxyocrhv;db?kjltmgi,ue.pnf\n",
      "GEN: 177, AVG: 230.84, MIN: 175, BEST: qazwsxyocrhv;db?kjltmgi,ue.pnf\n",
      "GEN: 178, AVG: 233.39, MIN: 175, BEST: qazwsxyocrhv;db?kjltmgi,ue.pnf\n",
      "GEN: 179, AVG: 234.25, MIN: 175, BEST: qazwsxyocrhv;db?kjltmgi,ue.pnf\n",
      "GEN: 180, AVG: 232.98, MIN: 175, BEST: qazwsxyocrhv;db?kjltmgi,ue.pnf\n",
      "GEN: 181, AVG: 232.25, MIN: 175, BEST: qazwsxyocrhv;db?kjltmgi,ue.pnf\n",
      "GEN: 182, AVG: 232.4, MIN: 175, BEST: qazwsxyocrhv;db?kjltmgi,ue.pnf\n",
      "GEN: 183, AVG: 243.09, MIN: 175, BEST: qazwsxyocrhv;db?kjltmgi,ue.pnf\n",
      "GEN: 184, AVG: 242.8, MIN: 175, BEST: qazwsxyocrhv;db?kjltmgi,ue.pnf\n",
      "GEN: 185, AVG: 229.91, MIN: 175, BEST: qazwsxyocrhv;db?kjltmgi,ue.pnf\n",
      "GEN: 186, AVG: 230.51, MIN: 175, BEST: qazwsxyocrhv;db?kjltmgi,ue.pnf\n",
      "GEN: 187, AVG: 243.4, MIN: 175, BEST: qazwsxyocrhv;db?kjltmgi,ue.pnf\n",
      "GEN: 188, AVG: 241.62, MIN: 175, BEST: qazwsxyocrhv;db?kjltmgi,ue.pnf\n",
      "GEN: 189, AVG: 245.37, MIN: 175, BEST: qazwsxyocrhv;db?kjltmgi,ue.pnf\n",
      "GEN: 190, AVG: 253.42, MIN: 175, BEST: qazwsxyocrhv;db?kjltmgi,ue.pnf\n",
      "GEN: 191, AVG: 235.12, MIN: 175, BEST: qazwsxyocrhv;db?kjltmgi,ue.pnf\n",
      "GEN: 192, AVG: 245.03, MIN: 175, BEST: qazwsxyocrhv;db?kjltmgi,ue.pnf\n",
      "GEN: 193, AVG: 248.41, MIN: 175, BEST: qazwsxyocrhv;db?kjltmgi,ue.pnf\n",
      "GEN: 194, AVG: 252.27, MIN: 175, BEST: qazwsxyocrhv;db?kjltmgi,ue.pnf\n",
      "GEN: 195, AVG: 256.29, MIN: 175, BEST: qazwsxyocrhv;db?kjltmgi,ue.pnf\n",
      "GEN: 196, AVG: 249.19, MIN: 175, BEST: qazwsxyocrhv;db?kjltmgi,ue.pnf\n",
      "GEN: 197, AVG: 260.95, MIN: 175, BEST: qazwsxyocrhv;db?kjltmgi,ue.pnf\n",
      "GEN: 198, AVG: 253.02, MIN: 175, BEST: qazwsxyocrhv;db?kjltmgi,ue.pnf\n",
      "GEN: 199, AVG: 239.89, MIN: 175, BEST: qazwsxyocrhv;db?kjltmgi,ue.pnf\n",
      "GEN: 200, AVG: 243.69, MIN: 175, BEST: qazwsxyocrhv;db?kjltmgi,ue.pnf\n",
      "GEN: 201, AVG: 240.07, MIN: 175, BEST: qazwsxyocrhv;db?kjltmgi,ue.pnf\n",
      "GEN: 202, AVG: 232.37, MIN: 175, BEST: qazwsxyocrhv;db?kjltmgi,ue.pnf\n",
      "GEN: 203, AVG: 245.44, MIN: 175, BEST: qazwsxyocrhv;db?kjltmgi,ue.pnf\n",
      "GEN: 204, AVG: 253.85, MIN: 175, BEST: qazwsxyocrhv;db?kjltmgi,ue.pnf\n",
      "GEN: 205, AVG: 235.06, MIN: 175, BEST: qazwsxyocrhv;db?kjltmgi,ue.pnf\n",
      "GEN: 206, AVG: 238.63, MIN: 175, BEST: qazwsxyocrhv;db?kjltmgi,ue.pnf\n",
      "GEN: 207, AVG: 224.59, MIN: 175, BEST: qazwsxyocrhv;db?kjltmgi,ue.pnf\n",
      "GEN: 208, AVG: 228.27, MIN: 175, BEST: qazwsxyocrhv;db?kjltmgi,ue.pnf\n",
      "GEN: 209, AVG: 228.58, MIN: 175, BEST: qazwsxyocrhv;db?kjltmgi,ue.pnf\n",
      "GEN: 210, AVG: 228.52, MIN: 175, BEST: qazwsxyocrhv;db?kjltmgi,ue.pnf\n",
      "GEN: 211, AVG: 238.02, MIN: 175, BEST: qazwsxyocrhv;db?kjltmgi,ue.pnf\n",
      "GEN: 212, AVG: 233.38, MIN: 175, BEST: qazwsxyocrhv;db?kjltmgi,ue.pnf\n",
      "GEN: 213, AVG: 223.55, MIN: 175, BEST: qazwsxyocrhv;db?kjltmgi,ue.pnf\n",
      "GEN: 214, AVG: 230.4, MIN: 175, BEST: qazwsxyocrhv;db?kjltmgi,ue.pnf\n",
      "GEN: 215, AVG: 232.31, MIN: 175, BEST: qazwsxyocrhv;db?kjltmgi,ue.pnf\n",
      "GEN: 216, AVG: 234.83, MIN: 175, BEST: qazwsxyocrhv;db?kjltmgi,ue.pnf\n",
      "GEN: 217, AVG: 257.26, MIN: 175, BEST: qazwsxyocrhv;db?kjltmgi,ue.pnf\n",
      "GEN: 218, AVG: 246.58, MIN: 175, BEST: qazwsxyocrhv;db?kjltmgi,ue.pnf\n",
      "GEN: 219, AVG: 231.78, MIN: 175, BEST: qazwsxyocrhv;db?kjltmgi,ue.pnf\n",
      "GEN: 220, AVG: 242.28, MIN: 175, BEST: qazwsxyocrhv;db?kjltmgi,ue.pnf\n",
      "GEN: 221, AVG: 251.75, MIN: 175, BEST: qazwsxyocrhv;db?kjltmgi,ue.pnf\n",
      "GEN: 222, AVG: 251.98, MIN: 175, BEST: qazwsxyocrhv;db?kjltmgi,ue.pnf\n",
      "GEN: 223, AVG: 243.93, MIN: 175, BEST: qazwsxyocrhv;db?kjltmgi,ue.pnf\n",
      "GEN: 224, AVG: 235.5, MIN: 175, BEST: qazwsxyocrhv;db?kjltmgi,ue.pnf\n",
      "GEN: 225, AVG: 236.4, MIN: 175, BEST: qazwsxyocrhv;db?kjltmgi,ue.pnf\n",
      "GEN: 226, AVG: 246.25, MIN: 175, BEST: qazwsxyocrhv;db?kjltmgi,ue.pnf\n",
      "GEN: 227, AVG: 249.37, MIN: 175, BEST: qazwsxyocrhv;db?kjltmgi,ue.pnf\n",
      "GEN: 228, AVG: 245.94, MIN: 175, BEST: qazwsxyocrhv;db?kjltmgi,ue.pnf\n",
      "GEN: 229, AVG: 229.16, MIN: 175, BEST: qazwsxyocrhv;db?kjltmgi,ue.pnf\n",
      "GEN: 230, AVG: 238.61, MIN: 175, BEST: qazwsxyocrhv;db?kjltmgi,ue.pnf\n",
      "GEN: 231, AVG: 235.5, MIN: 175, BEST: qazwsxyocrhv;db?kjltmgi,ue.pnf\n",
      "GEN: 232, AVG: 220.73, MIN: 175, BEST: qazwsxyocrhv;db?kjltmgi,ue.pnf\n",
      "GEN: 233, AVG: 226.21, MIN: 175, BEST: qazwsxyocrhv;db?kjltmgi,ue.pnf\n",
      "GEN: 234, AVG: 238.27, MIN: 175, BEST: qazwsxyocrhv;db?kjltmgi,ue.pnf\n",
      "GEN: 235, AVG: 249.11, MIN: 175, BEST: qazwsxyocrhv;db?kjltmgi,ue.pnf\n",
      "GEN: 236, AVG: 249.1, MIN: 175, BEST: qazwsxyocrhv;db?kjltmgi,ue.pnf\n",
      "GEN: 237, AVG: 242.61, MIN: 175, BEST: qazwsxyocrhv;db?kjltmgi,ue.pnf\n",
      "GEN: 238, AVG: 244.17, MIN: 175, BEST: qazwsxyocrhv;db?kjltmgi,ue.pnf\n",
      "GEN: 239, AVG: 255.61, MIN: 175, BEST: qazwsxyocrhv;db?kjltmgi,ue.pnf\n",
      "GEN: 240, AVG: 235.93, MIN: 175, BEST: qazwsxyocrhv;db?kjltmgi,ue.pnf\n",
      "GEN: 241, AVG: 245.21, MIN: 175, BEST: qazwsxyocrhv;db?kjltmgi,ue.pnf\n",
      "GEN: 242, AVG: 234.81, MIN: 175, BEST: qazwsxyocrhv;db?kjltmgi,ue.pnf\n",
      "GEN: 243, AVG: 226.93, MIN: 175, BEST: qazwsxyocrhv;db?kjltmgi,ue.pnf\n",
      "GEN: 244, AVG: 235.43, MIN: 175, BEST: qazwsxyocrhv;db?kjltmgi,ue.pnf\n",
      "GEN: 245, AVG: 237.18, MIN: 175, BEST: qazwsxyocrhv;db?kjltmgi,ue.pnf\n",
      "GEN: 246, AVG: 246.03, MIN: 175, BEST: qazwsxyocrhv;db?kjltmgi,ue.pnf\n",
      "GEN: 247, AVG: 250.15, MIN: 175, BEST: qazwsxyocrhv;db?kjltmgi,ue.pnf\n",
      "GEN: 248, AVG: 241.24, MIN: 175, BEST: qazwsxyocrhv;db?kjltmgi,ue.pnf\n",
      "GEN: 249, AVG: 231.94, MIN: 175, BEST: qazwsxyocrhv;db?kjltmgi,ue.pnf\n",
      "GEN: 250, AVG: 231.38, MIN: 175, BEST: qazwsxyocrhv;db?kjltmgi,ue.pnf\n",
      "GEN: 251, AVG: 229.46, MIN: 175, BEST: qazwsxyocrhv;db?kjltmgi,ue.pnf\n",
      "GEN: 252, AVG: 227.4, MIN: 175, BEST: qazwsxyocrhv;db?kjltmgi,ue.pnf\n",
      "GEN: 253, AVG: 230.22, MIN: 175, BEST: qazwsxyocrhv;db?kjltmgi,ue.pnf\n",
      "GEN: 254, AVG: 231.47, MIN: 175, BEST: qazwsxyocrhv;db?kjltmgi,ue.pnf\n",
      "GEN: 255, AVG: 218.3, MIN: 175, BEST: qazwsxyocrhv;db?kjltmgi,ue.pnf\n",
      "GEN: 256, AVG: 231.89, MIN: 175, BEST: qazwsxyocrhv;db?kjltmgi,ue.pnf\n",
      "GEN: 257, AVG: 231.62, MIN: 175, BEST: qazwsxyocrhv;db?kjltmgi,ue.pnf\n",
      "GEN: 258, AVG: 238.62, MIN: 175, BEST: qazwsxyocrhv;db?kjltmgi,ue.pnf\n",
      "GEN: 259, AVG: 251.37, MIN: 175, BEST: qazwsxyocrhv;db?kjltmgi,ue.pnf\n",
      "GEN: 260, AVG: 254.25, MIN: 175, BEST: qazwsxyocrhv;db?kjltmgi,ue.pnf\n",
      "GEN: 261, AVG: 244.36, MIN: 175, BEST: qazwsxyocrhv;db?kjltmgi,ue.pnf\n",
      "GEN: 262, AVG: 246.16, MIN: 175, BEST: qazwsxyocrhv;db?kjltmgi,ue.pnf\n",
      "GEN: 263, AVG: 238.85, MIN: 175, BEST: qazwsxyocrhv;db?kjltmgi,ue.pnf\n",
      "GEN: 264, AVG: 227.01, MIN: 175, BEST: qazwsxyocrhv;db?kjltmgi,ue.pnf\n",
      "GEN: 265, AVG: 237.08, MIN: 175, BEST: qazwsxyocrhv;db?kjltmgi,ue.pnf\n",
      "GEN: 266, AVG: 243.48, MIN: 175, BEST: qazwsxyocrhv;db?kjltmgi,ue.pnf\n",
      "GEN: 267, AVG: 242.17, MIN: 175, BEST: qazwsxyocrhv;db?kjltmgi,ue.pnf\n",
      "GEN: 268, AVG: 233.43, MIN: 175, BEST: qazwsxyocrhv;db?kjltmgi,ue.pnf\n",
      "GEN: 269, AVG: 256.97, MIN: 175, BEST: qazwsxyocrhv;db?kjltmgi,ue.pnf\n",
      "GEN: 270, AVG: 252.17, MIN: 175, BEST: qazwsxyocrhv;db?kjltmgi,ue.pnf\n",
      "GEN: 271, AVG: 246.98, MIN: 175, BEST: qazwsxyocrhv;db?kjltmgi,ue.pnf\n",
      "GEN: 272, AVG: 258.37, MIN: 175, BEST: qazwsxyocrhv;db?kjltmgi,ue.pnf\n",
      "GEN: 273, AVG: 272.91, MIN: 175, BEST: qazwsxyocrhv;db?kjltmgi,ue.pnf\n",
      "GEN: 274, AVG: 261.22, MIN: 175, BEST: qazwsxyocrhv;db?kjltmgi,ue.pnf\n",
      "GEN: 275, AVG: 254.18, MIN: 175, BEST: qazwsxyocrhv;db?kjltmgi,ue.pnf\n",
      "GEN: 276, AVG: 245.49, MIN: 175, BEST: qazwsxyocrhv;db?kjltmgi,ue.pnf\n",
      "GEN: 277, AVG: 255.65, MIN: 175, BEST: qazwsxyocrhv;db?kjltmgi,ue.pnf\n",
      "GEN: 278, AVG: 244.41, MIN: 175, BEST: qazwsxyocrhv;db?kjltmgi,ue.pnf\n",
      "GEN: 279, AVG: 251.14, MIN: 175, BEST: qazwsxyocrhv;db?kjltmgi,ue.pnf\n",
      "GEN: 280, AVG: 236.45, MIN: 175, BEST: qazwsxyocrhv;db?kjltmgi,ue.pnf\n",
      "GEN: 281, AVG: 234.02, MIN: 175, BEST: qazwsxyocrhv;db?kjltmgi,ue.pnf\n",
      "GEN: 282, AVG: 223.68, MIN: 175, BEST: qazwsxyocrhv;db?kjltmgi,ue.pnf\n",
      "GEN: 283, AVG: 222.95, MIN: 175, BEST: qazwsxyocrhv;db?kjltmgi,ue.pnf\n",
      "GEN: 284, AVG: 233.84, MIN: 175, BEST: qazwsxyocrhv;db?kjltmgi,ue.pnf\n",
      "GEN: 285, AVG: 241.27, MIN: 175, BEST: qazwsxyocrhv;db?kjltmgi,ue.pnf\n",
      "GEN: 286, AVG: 223.85, MIN: 175, BEST: qazwsxyocrhv;db?kjltmgi,ue.pnf\n",
      "GEN: 287, AVG: 235.5, MIN: 175, BEST: qazwsxyocrhv;db?kjltmgi,ue.pnf\n",
      "GEN: 288, AVG: 229.89, MIN: 175, BEST: qazwsxyocrhv;db?kjltmgi,ue.pnf\n",
      "GEN: 289, AVG: 229.23, MIN: 175, BEST: qazwsxyocrhv;db?kjltmgi,ue.pnf\n",
      "GEN: 290, AVG: 237.06, MIN: 175, BEST: qazwsxyocrhv;db?kjltmgi,ue.pnf\n",
      "GEN: 291, AVG: 247.22, MIN: 175, BEST: qazwsxyocrhv;db?kjltmgi,ue.pnf\n",
      "GEN: 292, AVG: 246.03, MIN: 175, BEST: qazwsxyocrhv;db?kjltmgi,ue.pnf\n",
      "GEN: 293, AVG: 241.46, MIN: 175, BEST: qazwsxyocrhv;db?kjltmgi,ue.pnf\n",
      "GEN: 294, AVG: 230.75, MIN: 175, BEST: qazwsxyocrhv;db?kjltmgi,ue.pnf\n",
      "GEN: 295, AVG: 232.24, MIN: 175, BEST: qazwsxyocrhv;db?kjltmgi,ue.pnf\n",
      "GEN: 296, AVG: 241.31, MIN: 175, BEST: qazwsxyocrhv;db?kjltmgi,ue.pnf\n",
      "GEN: 297, AVG: 227.92, MIN: 175, BEST: qazwsxyocrhv;db?kjltmgi,ue.pnf\n",
      "GEN: 298, AVG: 240.7, MIN: 175, BEST: qazwsxyocrhv;db?kjltmgi,ue.pnf\n",
      "GEN: 299, AVG: 250.2, MIN: 175, BEST: qazwsxyocrhv;db?kjltmgi,ue.pnf\n",
      "GEN: 300, AVG: 256.29, MIN: 175, BEST: qazwsxyocrhv;db?kjltmgi,ue.pnf\n"
     ]
    }
   ],
   "source": [
    "for i1 in range(GENERATIONS):    \n",
    "    evals, sorted_evals = get_evals(population)\n",
    "    sum_evals = 0\n",
    "    for key in evals:\n",
    "        sum_evals += evals[key]\n",
    "    avg_evals = sum_evals/P_SIZE\n",
    "\n",
    "    population_str = [''.join(genome) for genome in population]\n",
    "\n",
    "    learning['generations'][i1] = {\n",
    "        'population': population_str,\n",
    "        'best': population_str[sorted_evals[0]],\n",
    "        'min': evals[sorted_evals[0]],\n",
    "        'avg': avg_evals\n",
    "    }\n",
    "    print('GEN: {}, AVG: {}, MIN: {}, BEST: {}'.format(i1+1, avg_evals, evals[sorted_evals[0]], population_str[sorted_evals[0]]))\n",
    "    \n",
    "    population = new_generation(population, sorted_evals, P_SIZE, MUTATION_RATE)\n",
    "\n",
    "\n",
    "LEARNING_JSON = 'output/learning14.json'\n",
    "with open(LEARNING_JSON, 'w') as fp:\n",
    "    json.dump(learning, fp)"
   ]
  },
  {
   "cell_type": "markdown",
   "metadata": {},
   "source": [
    "### Visualize the training\n",
    "\n",
    "This code will take a learning json file and plot the data. It will plot one graph as the average distance for each generation, and another graph for the best distance for each generation."
   ]
  },
  {
   "cell_type": "code",
   "execution_count": 29,
   "metadata": {},
   "outputs": [
    {
     "data": {
      "image/png": "[encoded data removed]",
      "text/plain": [
       "<Figure size 640x480 with 1 Axes>"
      ]
     },
     "metadata": {},
     "output_type": "display_data"
    },
    {
     "data": {
      "image/png": "[encoded data removed]",
      "text/plain": [
       "<Figure size 640x480 with 1 Axes>"
      ]
     },
     "metadata": {},
     "output_type": "display_data"
    }
   ],
   "source": [
    "with open(LEARNING_JSON) as fp:\n",
    "    learning = json.load(fp)\n",
    "    \n",
    "last_dist = 1000000000\n",
    "min_dists = []\n",
    "avg_dists = []\n",
    "generations = len(learning['generations'])\n",
    "\n",
    "for i1 in range(0, generations):\n",
    "    min_dist = learning['generations'][str(i1)]['min']\n",
    "    avg_dist = learning['generations'][str(i1)]['avg']\n",
    "    min_dists.append(min_dist)\n",
    "    avg_dists.append(avg_dist)\n",
    "\n",
    "plt.plot(min_dists, label='Lowest Distance')\n",
    "plt.xlabel('Generations')\n",
    "plt.ylabel('Distance')\n",
    "plt.legend()\n",
    "plt.show()\n",
    "\n",
    "plt.plot(avg_dists, label='Average Distance', color='orange')\n",
    "plt.xlabel('Generations')\n",
    "plt.ylabel('Distance')\n",
    "plt.legend()\n",
    "plt.show()"
   ]
  },
  {
   "cell_type": "markdown",
   "metadata": {},
   "source": [
    "### Visualizing keyboards\n",
    "\n",
    "The following code will create an image for any keyboard string to help visualize what layout the keyboard string corresponds to. This isn't needed, but can be helpful when viewing keyboards generated by the genetic algorithm."
   ]
  },
  {
   "cell_type": "code",
   "execution_count": 30,
   "metadata": {},
   "outputs": [
    {
     "data": {
      "image/png": "[encoded data removed]",
      "text/plain": [
       "<PIL.Image.Image image mode=RGBA size=890x356>"
      ]
     },
     "metadata": {},
     "output_type": "display_data"
    }
   ],
   "source": [
    "kb = learning['generations'][str(GENERATIONS-1)]['best'] # best keyboard found\n",
    "layout['ga_best']=''.join(kb)\n",
    "\n",
    "with Image.open(\"template.jpg\").convert(\"RGBA\") as base:\n",
    "\n",
    "    # make a blank image for the text, initialized to transparent text color\n",
    "    txt = Image.new(\"RGBA\", base.size, (255, 255, 255, 0))\n",
    "\n",
    "    # get a font\n",
    "    fnt = ImageFont.truetype(\"SFNSMono.ttf\", 40)\n",
    "    # get a drawing context\n",
    "    d = ImageDraw.Draw(txt)\n",
    "    \n",
    "    x_offsets = [110, 135, 175]\n",
    "    for i1 in range(30):\n",
    "        row = i1%3\n",
    "        column = math.floor(i1/3)\n",
    "        x = column*60 + x_offsets[row]\n",
    "        y = row*65 + 85\n",
    "        char_coords = (x, y)\n",
    "        d.text(char_coords, kb[i1], font=fnt, fill=(0, 0, 0, 255))\n",
    "\n",
    "    out = Image.alpha_composite(base, txt)\n",
    "\n",
    "    display(out)"
   ]
  },
  {
   "cell_type": "code",
   "execution_count": 31,
   "metadata": {},
   "outputs": [
    {
     "name": "stdout",
     "output_type": "stream",
     "text": [
      "cyletix10\tqa.yexgocksvjw;?dbfhmui,rnlptz\t 422181\t251542\t63462\t22\t6\t76961\t\n"
     ]
    }
   ],
   "source": [
    "# 单项测试\n",
    "layout['test'] = 'qa.yexgocksvjw;?dbfhmui,rnlptz'\n",
    "keys = layout['test']\n",
    "KeyboardLayout=(genome_to_keyboard(list(layout['test']))) \n",
    "results = []\n",
    "for language, text in full_text.items():\n",
    "    distance = total_distance(text, KeyboardLayout)\n",
    "    results.append(f\"{int(distance)}\\t\")\n",
    "results.append(f\"{cal_hamming_distance(layout['qwerty'], keys)}\\t\")\n",
    "results.append(f\"{cal_punish_distance(layout['qwerty'], keys)}\\t\")\n",
    "repeat_count = 0\n",
    "for language, text in full_text.items():\n",
    "    repeat_count += finger_repeat(full_text[language],KeyboardLayout)\n",
    "results.append(f\"{repeat_count}\\t\")\n",
    "print(f\"{layout_name}\\t{keys}\\t\", \"\".join(results))"
   ]
  },
  {
   "cell_type": "code",
   "execution_count": 4,
   "metadata": {},
   "outputs": [
    {
     "name": "stdout",
     "output_type": "stream",
     "text": [
      "Layout\tkeys\tarxiv\tchinese\tpython\thamming\tpunish\trepeat\n"
     ]
    },
    {
     "ename": "NameError",
     "evalue": "name 'full_text' is not defined",
     "output_type": "error",
     "traceback": [
      "\u001b[1;31m---------------------------------------------------------------------------\u001b[0m",
      "\u001b[1;31mNameError\u001b[0m                                 Traceback (most recent call last)",
      "Cell \u001b[1;32mIn[4], line 7\u001b[0m\n\u001b[0;32m      5\u001b[0m KeyboardLayout\u001b[38;5;241m=\u001b[39m(genome_to_keyboard(\u001b[38;5;28mlist\u001b[39m(layout[layout_name]))) \n\u001b[0;32m      6\u001b[0m results \u001b[38;5;241m=\u001b[39m []\n\u001b[1;32m----> 7\u001b[0m \u001b[38;5;28;01mfor\u001b[39;00m language, text \u001b[38;5;129;01min\u001b[39;00m \u001b[43mfull_text\u001b[49m\u001b[38;5;241m.\u001b[39mitems():\n\u001b[0;32m      8\u001b[0m     distance \u001b[38;5;241m=\u001b[39m total_distance(text, KeyboardLayout)\n\u001b[0;32m      9\u001b[0m     results\u001b[38;5;241m.\u001b[39mappend(\u001b[38;5;124mf\u001b[39m\u001b[38;5;124m\"\u001b[39m\u001b[38;5;132;01m{\u001b[39;00m\u001b[38;5;28mint\u001b[39m(distance)\u001b[38;5;132;01m}\u001b[39;00m\u001b[38;5;130;01m\\t\u001b[39;00m\u001b[38;5;124m\"\u001b[39m)\n",
      "\u001b[1;31mNameError\u001b[0m: name 'full_text' is not defined"
     ]
    }
   ],
   "source": [
    "# 结果汇总\n",
    "print(f\"Layout\\tkeys\\tarxiv\\tchinese\\tpython\\thamming\\tpunish\\trepeat\")\n",
    "\n",
    "for layout_name, keys in layout.items():\n",
    "    KeyboardLayout=(genome_to_keyboard(list(layout[layout_name]))) \n",
    "    results = []\n",
    "    for language, text in full_text.items():\n",
    "        distance = total_distance(text, KeyboardLayout)\n",
    "        results.append(f\"{int(distance)}\\t\")\n",
    "    results.append(f\"{cal_hamming_distance(layout['qwerty'], keys)}\\t\")\n",
    "    results.append(f\"{cal_punish_distance(layout['qwerty'], keys)}\\t\")\n",
    "    repeat_count = 0\n",
    "    for language, text in full_text.items():\n",
    "        repeat_count += finger_repeat(full_text[language],KeyboardLayout)\n",
    "    results.append(f\"{repeat_count}\\t\")\n",
    "    print(f\"{layout_name}\\t{keys}\\t\", \"\".join(results))"
   ]
  }
 ],
 "metadata": {
  "kernelspec": {
   "display_name": "Python 3",
   "language": "python",
   "name": "python3"
  },
  "language_info": {
   "codemirror_mode": {
    "name": "ipython",
    "version": 3
   },
   "file_extension": ".py",
   "mimetype": "text/x-python",
   "name": "python",
   "nbconvert_exporter": "python",
   "pygments_lexer": "ipython3",
   "version": "3.10.11"
  }
 },
 "nbformat": 4,
 "nbformat_minor": 2
}
