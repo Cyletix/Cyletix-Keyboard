{
 "cells": [
  {
   "cell_type": "markdown",
   "metadata": {},
   "source": [
    "## Watch the [YouTube video](https://www.youtube.com/watch?v=EOaPb9wrgDY) first for more context."
   ]
  },
  {
   "cell_type": "code",
   "execution_count": 141,
   "metadata": {},
   "outputs": [],
   "source": [
    "import math\n",
    "import json\n",
    "import random\n",
    "from PIL import Image, ImageDraw, ImageFont \n",
    "import matplotlib.pyplot as plt\n",
    "import os"
   ]
  },
  {
   "cell_type": "markdown",
   "metadata": {},
   "source": [
    "## Setting up the keyboard\n",
    "\n",
    "### Coordinates\n",
    "\n",
    "Start by creating a dictionary to store the coordinate positions for each key. In this project, the key labeling order will be top to bottom, left to right. This means that on a QWERTY layout, the \"Q\" key corresponds to index 0, \"A\" is 1, \"Z\" is 2, \"W\" is 3, \"S\" is 4, etc. The middle row and bottom row will be offset from the top row. Set these offsets to 0 to represent an ortholinear keyboard. This will create a keyboard with 30 keys."
   ]
  },
  {
   "cell_type": "code",
   "execution_count": 142,
   "metadata": {},
   "outputs": [
    {
     "data": {
      "text/plain": [
       "{0: (0, 0),\n",
       " 1: (24, 94),\n",
       " 2: (71, 188),\n",
       " 3: (94, 0),\n",
       " 4: (118, 94),\n",
       " 5: (165, 188),\n",
       " 6: (188, 0),\n",
       " 7: (212, 94),\n",
       " 8: (259, 188),\n",
       " 9: (282, 0),\n",
       " 10: (306, 94),\n",
       " 11: (353, 188),\n",
       " 12: (376, 0),\n",
       " 13: (400, 94),\n",
       " 14: (447, 188),\n",
       " 15: (470, 0),\n",
       " 16: (494, 94),\n",
       " 17: (541, 188),\n",
       " 18: (564, 0),\n",
       " 19: (588, 94),\n",
       " 20: (635, 188),\n",
       " 21: (658, 0),\n",
       " 22: (682, 94),\n",
       " 23: (729, 188),\n",
       " 24: (752, 0),\n",
       " 25: (776, 94),\n",
       " 26: (823, 188),\n",
       " 27: (846, 0),\n",
       " 28: (870, 94),\n",
       " 29: (917, 188)}"
      ]
     },
     "execution_count": 142,
     "metadata": {},
     "output_type": "execute_result"
    }
   ],
   "source": [
    "KEY_WIDTH = 94\n",
    "MIDDLE_OFFSET = 24\n",
    "BOTTOM_OFFSET = 71\n",
    "offsets = [0, MIDDLE_OFFSET, BOTTOM_OFFSET]\n",
    "\n",
    "coords = {}\n",
    "for i1 in range(30):\n",
    "    row = i1%3\n",
    "    column = math.floor(i1/3)\n",
    "    x = column*KEY_WIDTH + offsets[row]\n",
    "    y = row*KEY_WIDTH\n",
    "    coords[i1] = (x, y)\n",
    "coords"
   ]
  },
  {
   "cell_type": "markdown",
   "metadata": {},
   "source": [
    "### Keys per finger\n",
    "\n",
    "Define all of the key that each finger is responsible for typing. This can change depending on how many fingers you want to simulate typing with. For example, assuming 10 finger typing on a QWERTY layout, the pinky finger on the left hand will be responsible for typing the \"Q\", \"A\", and \"Z\" keys. Therefore, the keys 0, 1, and 2 will be grouped together in the two dimmensional array. Similarly, the the ring finger on the left hand is responsible for typing \"W\", \"S\", and \"X\", so the keys 3, 4, and 5 will be grouped together. We define define the keys for each finger as elements in a 2 dimensional array."
   ]
  },
  {
   "cell_type": "code",
   "execution_count": 143,
   "metadata": {},
   "outputs": [],
   "source": [
    "global keys_per_finger\n",
    "keys_per_finger = [[0,1,2], [3,4,5], [6,7], [8,9,10,11,12,13,14], [15,16,17,18,19,20], [21,22,23], [24,25,26], [27,28,29]]\n",
    "# The keys per finger for a 2 finger typing would be defined as follows:\n",
    "# keys_per_finger = [[0,1,2,3,4,5,6,7,8,9,10,11,12,13,14], [15,16,17,18,19,20,21,22,23,24,25,26,27,28,29]]\n",
    "# The keys per finger for a 1 finger typing would be defined as follows:\n",
    "# keys_per_finger = [[0,1,2,3,4,5,6,7,8,9,10,11,12,13,14,15,16,17,18,19,20,21,22,23,24,25,26,27,28,29]]"
   ]
  },
  {
   "cell_type": "markdown",
   "metadata": {},
   "source": [
    "### Home keys\n",
    "\n",
    "When typing, each finger that is used to type should have home keys defined which is their default position that they start in and return to when not actively typing. For example, for 10 finger typing on a QWERTY keyboard the home keys will be \"A\", \"S\", \"D\", \"F\", \"J\", \"K\", \"L\", and \";\". This corresponds to keys 1, 4, 7, 10, 19, 22, 25, 28. Use a dictionary to associate each key to its corresponding home key."
   ]
  },
  {
   "cell_type": "code",
   "execution_count": 144,
   "metadata": {},
   "outputs": [
    {
     "data": {
      "text/plain": [
       "{0: 1,\n",
       " 1: 1,\n",
       " 2: 1,\n",
       " 3: 4,\n",
       " 4: 4,\n",
       " 5: 4,\n",
       " 6: 7,\n",
       " 7: 7,\n",
       " 8: 10,\n",
       " 9: 10,\n",
       " 10: 10,\n",
       " 11: 10,\n",
       " 12: 10,\n",
       " 13: 10,\n",
       " 14: 10,\n",
       " 15: 19,\n",
       " 16: 19,\n",
       " 17: 19,\n",
       " 18: 19,\n",
       " 19: 19,\n",
       " 20: 19,\n",
       " 21: 22,\n",
       " 22: 22,\n",
       " 23: 22,\n",
       " 24: 25,\n",
       " 25: 25,\n",
       " 26: 25,\n",
       " 27: 28,\n",
       " 28: 28,\n",
       " 29: 28}"
      ]
     },
     "execution_count": 144,
     "metadata": {},
     "output_type": "execute_result"
    }
   ],
   "source": [
    "home_key_pos = [1, 4, 7, 10, 19, 22, 25, 28]\n",
    "# The home keys for a 2 finger typing would be defined as follows:\n",
    "# home_key_pos = [7, 22]\n",
    "# The home key for a 1 finger typing would be defined as follows:\n",
    "# home_key_pos = [16]\n",
    "home_keys = {}\n",
    "for i1, keys in enumerate(keys_per_finger):\n",
    "    for key in keys:\n",
    "        home_keys[key] = home_key_pos[i1]\n",
    "home_keys"
   ]
  },
  {
   "cell_type": "markdown",
   "metadata": {},
   "source": [
    "### Keyboard object\n",
    "\n",
    "Each keyboard will be defined as a dictionary for what character each key corresponds to. This function will convert a genome (string representing a keyboard) into a dictionary. The genome should be in order, so for the QWERTY layout, the genome will be \"qazwsxedcrfvtgbyhnujmik,ol.p;/\". It will also take into account shift keys like \"<\", \">\", \":\", and \"?\" by adding them to the dictionary with the appropriate corresponding key. "
   ]
  },
  {
   "cell_type": "code",
   "execution_count": 145,
   "metadata": {},
   "outputs": [],
   "source": [
    "def genome_to_keyboard(genome):\n",
    "    keyboard = {}\n",
    "    for i, char in enumerate(genome):\n",
    "        keyboard[char] = i\n",
    "        if char == ',':\n",
    "            keyboard['<'] = i\n",
    "        elif char == '.':\n",
    "            keyboard['>'] = i\n",
    "        elif char == ';':\n",
    "            keyboard[':'] = i\n",
    "        elif char == '/':\n",
    "            keyboard['?'] = i\n",
    "    return keyboard"
   ]
  },
  {
   "cell_type": "markdown",
   "metadata": {},
   "source": [
    "## Data Collection\n",
    "\n",
    "### arXiv.org dataset\n",
    "\n",
    "The arXiv.org metadata dataset can be downloaded from [Kaggle](https://www.kaggle.com/datasets/Cornell-University/arxiv). Download the json file and save it in the same directory as this notebook. The following code will create a collection of abstracts. It will not include any abstracts that contain illegal characters. This will reduce any unwanted data like scientific notation and math equations. In the original video, only a small subset of the dataset of 587 abtracts. The dataset is very large and calculating the distance over the entire dataset will take a very long time."
   ]
  },
  {
   "cell_type": "code",
   "execution_count": 146,
   "metadata": {},
   "outputs": [],
   "source": [
    "full_text = {}"
   ]
  },
  {
   "cell_type": "code",
   "execution_count": 147,
   "metadata": {},
   "outputs": [],
   "source": [
    "ARXIV_JSON = 'arxiv-metadata-oai-snapshot.json'\n",
    "DATA_LIMIT = 3000  # 2486206 条数据, 太多了, 设定30000为效率测试数\n",
    "\n",
    "full_text['arxiv'] = ''\n",
    "legal_chars = 'qazwsxedcrfvtgbyhnujmik,ol.p;:? '\n",
    "\n",
    "count = 0\n",
    "with open(ARXIV_JSON) as file:\n",
    "    for line in file:\n",
    "        if count > DATA_LIMIT:\n",
    "            break\n",
    "        abstract = json.loads(line)['abstract'].replace('\\n', ' ').strip().lower()\n",
    "        if any(char not in legal_chars for char in abstract):\n",
    "            continue\n",
    "        full_text['arxiv'] += ' ' + abstract\n",
    "        count += 1"
   ]
  },
  {
   "cell_type": "code",
   "execution_count": 148,
   "metadata": {},
   "outputs": [],
   "source": [
    "# # 随机抽取3000条, 未测试\n",
    "\n",
    "# ARXIV_JSON = 'arxiv-metadata-oai-snapshot.json'\n",
    "# DATA_LIMIT = 3000  # 设定3000为抽样数\n",
    "# legal_chars = 'qazwsxedcrfvtgbyhnujmik,ol.p;:? '\n",
    "\n",
    "# full_text = {'arxiv': ''}  # 初始化字典\n",
    "# sampled_abstracts = []\n",
    "# count = 0\n",
    "\n",
    "# with open(ARXIV_JSON) as file:\n",
    "#     for line in file:\n",
    "#         abstract = json.loads(line)['abstract'].replace('\\n', ' ').strip().lower()\n",
    "#         if all(char in legal_chars for char in abstract):\n",
    "#             if len(sampled_abstracts) < DATA_LIMIT:\n",
    "#                 sampled_abstracts.append(abstract)\n",
    "#             else:\n",
    "#                 replace_index = random.randint(0, count)\n",
    "#                 if replace_index < DATA_LIMIT:\n",
    "#                     sampled_abstracts[replace_index] = abstract\n",
    "#         count += 1\n",
    "\n",
    "# full_text['arxiv'] = ' '.join(sampled_abstracts)"
   ]
  },
  {
   "cell_type": "code",
   "execution_count": 149,
   "metadata": {},
   "outputs": [],
   "source": [
    "# 中文数据集\n",
    "NOTEBOOK_JSON = 'notebook_content.json'\n",
    "DATA_LIMIT2 = 324  # 3249 条, 3249为效率测试数\n",
    "\n",
    "full_text['chinese'] = ''\n",
    "legal_chars = 'qazwsxedcrfvtgbyhnujmik,ol.p;:? '\n",
    "\n",
    "count = 0\n",
    "with open(NOTEBOOK_JSON, 'r', encoding='utf-8') as file:\n",
    "    for line in file:\n",
    "        if count > DATA_LIMIT2:\n",
    "            break\n",
    "        content_pinyin = json.loads(line)['content_pinyin'].replace('\\n', ' ').strip().lower()\n",
    "        if any(char not in legal_chars for char in content_pinyin):\n",
    "            continue\n",
    "        full_text['chinese'] += ' ' + content_pinyin\n",
    "        count += 1"
   ]
  },
  {
   "cell_type": "code",
   "execution_count": 150,
   "metadata": {},
   "outputs": [],
   "source": [
    "#Python数据集\n",
    "PYTHON_CODE='python_code2.json'\n",
    "DATA_LIMIT3 = 45  # 728 条, 728为效率测试数\n",
    "\n",
    "full_text['python'] = ''\n",
    "legal_chars = 'qazwsxedcrfvtgbyhnujmik,ol.p;:? '\n",
    "\n",
    "count = 0\n",
    "with open(PYTHON_CODE, 'r', encoding='utf-8') as file:\n",
    "    for line in file:\n",
    "        if count > DATA_LIMIT3:\n",
    "            break\n",
    "        content_python = json.loads(line)['content'].replace('\\n', ' ').strip().lower()\n",
    "        # if any(char not in legal_chars for char in content_python):\n",
    "        #     continue\n",
    "        cleaned_content = ''.join([char for char in content_python if char in legal_chars]) # python不能简单跳过处理\n",
    "        full_text['python'] += ' ' + cleaned_content\n",
    "        count += 1\n"
   ]
  },
  {
   "cell_type": "code",
   "execution_count": 151,
   "metadata": {},
   "outputs": [
    {
     "name": "stdout",
     "output_type": "stream",
     "text": [
      "总计: 2175285\n",
      "arxiv: 1251359, 占比57.53%\n",
      "中文: 757849, 占比34.84%\n",
      "Python: 166077, 占比7.63%\n"
     ]
    }
   ],
   "source": [
    "# 数据集长度长度\n",
    "total_full_text = full_text['arxiv']+full_text['chinese']+full_text['python']\n",
    "print(\"总计:\",len(total_full_text))\n",
    "percent = \"{:.2f}%\".format(len(full_text['arxiv'])/len(total_full_text)* 100)\n",
    "percen_chinese = \"{:.2f}%\".format(len(full_text['chinese'])/len(total_full_text)* 100)\n",
    "percent_python = \"{:.2f}%\".format(len(full_text['python'])/len(total_full_text)* 100)\n",
    "\n",
    "print(f\"arxiv: {len(full_text['arxiv'])}, 占比{percent}\\n中文: {len(full_text['chinese'])}, 占比{percen_chinese}\\nPython: {len(full_text['python'])}, 占比{percent_python}\")"
   ]
  },
  {
   "cell_type": "markdown",
   "metadata": {},
   "source": [
    "## Calculate distance\n",
    "\n",
    "### Calculate distance between two keys\n",
    "\n",
    "This simple function will calculate the distance between any two given keys, given their coordinates as input parameters"
   ]
  },
  {
   "cell_type": "code",
   "execution_count": 152,
   "metadata": {},
   "outputs": [],
   "source": [
    "def distance(first, second):\n",
    "    return math.hypot(second[0] - first[0], second[1] - first[1])"
   ]
  },
  {
   "cell_type": "markdown",
   "metadata": {},
   "source": [
    "### Calculate distance for all letter pairings\n",
    "\n",
    "Calculate the distance for all valid letter pairings and save it as a dictionary of dictionaries. The key in the dictionary corresponds to the starting key. The inner dictionary key is the ending key, and the inner dictionary value is the distance for that key pairing. For example, the dinstances from key 0 to keys 0, 1, and 2 will be represented as: \n",
    "```\n",
    "{\n",
    "  0: {\n",
    "    0: 0.0, \n",
    "    1: 1.0320793902668004, \n",
    "    2: 2.1378744155702085\n",
    "  }\n",
    "}\n",
    "       \n",
    "```"
   ]
  },
  {
   "cell_type": "code",
   "execution_count": 153,
   "metadata": {},
   "outputs": [
    {
     "data": {
      "text/plain": [
       "{0: {0: 0.0, 1: 1.0320793902668004, 2: 2.1378744155702085},\n",
       " 1: {0: 1.0320793902668004, 1: 0.0, 2: 1.1180339887498947},\n",
       " 2: {0: 2.1378744155702085, 1: 1.1180339887498947, 2: 0.0},\n",
       " 3: {3: 0.0, 4: 1.0320793902668004, 5: 2.1378744155702085},\n",
       " 4: {3: 1.0320793902668004, 4: 0.0, 5: 1.1180339887498947},\n",
       " 5: {3: 2.1378744155702085, 4: 1.1180339887498947, 5: 0.0},\n",
       " 6: {6: 0.0, 7: 1.0320793902668004},\n",
       " 7: {6: 1.0320793902668004, 7: 0.0},\n",
       " 8: {8: 0.0,\n",
       "  9: 2.01491159083403,\n",
       "  10: 1.1180339887498947,\n",
       "  11: 1.0,\n",
       "  12: 2.3556804581702036,\n",
       "  13: 1.8027756377319948,\n",
       "  14: 2.0},\n",
       " 9: {8: 2.01491159083403,\n",
       "  9: 0.0,\n",
       "  10: 1.0320793902668004,\n",
       "  11: 2.1378744155702085,\n",
       "  12: 1.0,\n",
       "  13: 1.6049380566507325,\n",
       "  14: 2.6610421482235114},\n",
       " 10: {8: 1.1180339887498947,\n",
       "  9: 1.0320793902668004,\n",
       "  10: 0.0,\n",
       "  11: 1.1180339887498947,\n",
       "  12: 1.2468157722539244,\n",
       "  13: 1.0,\n",
       "  14: 1.8027756377319948},\n",
       " 11: {8: 1.0,\n",
       "  9: 2.1378744155702085,\n",
       "  10: 1.1180339887498947,\n",
       "  11: 0.0,\n",
       "  12: 2.01491159083403,\n",
       "  13: 1.1180339887498947,\n",
       "  14: 1.0},\n",
       " 12: {8: 2.3556804581702036,\n",
       "  9: 1.0,\n",
       "  10: 1.2468157722539244,\n",
       "  11: 2.01491159083403,\n",
       "  12: 0.0,\n",
       "  13: 1.0320793902668004,\n",
       "  14: 2.1378744155702085},\n",
       " 13: {8: 1.8027756377319948,\n",
       "  9: 1.6049380566507325,\n",
       "  10: 1.0,\n",
       "  11: 1.1180339887498947,\n",
       "  12: 1.0320793902668004,\n",
       "  13: 0.0,\n",
       "  14: 1.1180339887498947},\n",
       " 14: {8: 2.0,\n",
       "  9: 2.6610421482235114,\n",
       "  10: 1.8027756377319948,\n",
       "  11: 1.0,\n",
       "  12: 2.1378744155702085,\n",
       "  13: 1.1180339887498947,\n",
       "  14: 0.0},\n",
       " 15: {15: 0.0,\n",
       "  16: 1.0320793902668004,\n",
       "  17: 2.1378744155702085,\n",
       "  18: 1.0,\n",
       "  19: 1.6049380566507325,\n",
       "  20: 2.6610421482235114},\n",
       " 16: {15: 1.0320793902668004,\n",
       "  16: 0.0,\n",
       "  17: 1.1180339887498947,\n",
       "  18: 1.2468157722539244,\n",
       "  19: 1.0,\n",
       "  20: 1.8027756377319948},\n",
       " 17: {15: 2.1378744155702085,\n",
       "  16: 1.1180339887498947,\n",
       "  17: 0.0,\n",
       "  18: 2.01491159083403,\n",
       "  19: 1.1180339887498947,\n",
       "  20: 1.0},\n",
       " 18: {15: 1.0,\n",
       "  16: 1.2468157722539244,\n",
       "  17: 2.01491159083403,\n",
       "  18: 0.0,\n",
       "  19: 1.0320793902668004,\n",
       "  20: 2.1378744155702085},\n",
       " 19: {15: 1.6049380566507325,\n",
       "  16: 1.0,\n",
       "  17: 1.1180339887498947,\n",
       "  18: 1.0320793902668004,\n",
       "  19: 0.0,\n",
       "  20: 1.1180339887498947},\n",
       " 20: {15: 2.6610421482235114,\n",
       "  16: 1.8027756377319948,\n",
       "  17: 1.0,\n",
       "  18: 2.1378744155702085,\n",
       "  19: 1.1180339887498947,\n",
       "  20: 0.0},\n",
       " 21: {21: 0.0, 22: 1.0320793902668004, 23: 2.1378744155702085},\n",
       " 22: {21: 1.0320793902668004, 22: 0.0, 23: 1.1180339887498947},\n",
       " 23: {21: 2.1378744155702085, 22: 1.1180339887498947, 23: 0.0},\n",
       " 24: {24: 0.0, 25: 1.0320793902668004, 26: 2.1378744155702085},\n",
       " 25: {24: 1.0320793902668004, 25: 0.0, 26: 1.1180339887498947},\n",
       " 26: {24: 2.1378744155702085, 25: 1.1180339887498947, 26: 0.0},\n",
       " 27: {27: 0.0, 28: 1.0320793902668004, 29: 2.1378744155702085},\n",
       " 28: {27: 1.0320793902668004, 28: 0.0, 29: 1.1180339887498947},\n",
       " 29: {27: 2.1378744155702085, 28: 1.1180339887498947, 29: 0.0}}"
      ]
     },
     "execution_count": 153,
     "metadata": {},
     "output_type": "execute_result"
    }
   ],
   "source": [
    "distances = {i: {} for i in range(30)}\n",
    "for keys in keys_per_finger:\n",
    "    for i1 in keys:\n",
    "        for j1 in keys:\n",
    "            distances[i1][j1] = distance(coords[i1], coords[j1]) / KEY_WIDTH\n",
    "distances"
   ]
  },
  {
   "cell_type": "markdown",
   "metadata": {},
   "source": [
    "### Calculate total distance for a given string\n",
    "\n",
    "This function will calculate the total distance for any given string with any given keyboard. This will fail if there are invalid characters in the string"
   ]
  },
  {
   "cell_type": "code",
   "execution_count": 154,
   "metadata": {},
   "outputs": [],
   "source": [
    "def total_distance(input_string, keyboard):\n",
    "    input_string = input_string.lower()\n",
    "    input_string = input_string.replace(' ', '')\n",
    "    first_char = input_string[0]\n",
    "    first_pos = keyboard[first_char]\n",
    "    first_home_key = home_keys[first_pos]\n",
    "    total_dist = distances[first_home_key][first_pos]\n",
    "    for i in range(0, len(input_string)-1):\n",
    "        cur_char = input_string[i]\n",
    "        next_char = input_string[i+1]\n",
    "        cur_pos = keyboard[cur_char]\n",
    "        next_pos = keyboard[next_char]\n",
    "        if cur_pos in distances and next_pos in distances[cur_pos]:\n",
    "            total_dist += distances[cur_pos][next_pos]\n",
    "        else:\n",
    "            home_key = home_keys[next_pos]\n",
    "            total_dist += distances[home_key][next_pos]\n",
    "    return total_dist"
   ]
  },
  {
   "cell_type": "markdown",
   "metadata": {},
   "source": [
    "### 自定义带换行惩罚的距离(未完成)"
   ]
  },
  {
   "cell_type": "code",
   "execution_count": 155,
   "metadata": {},
   "outputs": [],
   "source": [
    "# 获取字符的 finger_index 以及按键相对于手指的具体位置\n",
    "def get_finger_and_key_position(char, layout, keys_per_finger):\n",
    "    index = layout.index(char)  # 找出字符在 layout['qwerty'] 中的索引\n",
    "    for finger_idx, finger_keys in enumerate(keys_per_finger):\n",
    "        if index in finger_keys:\n",
    "            key_position_in_finger = finger_keys.index(index)\n",
    "            return finger_idx, key_position_in_finger  # 返回手指索引和在该手指负责的按键列表中的位置\n",
    "    return None, None  # 如果未找到匹配，返回None\n",
    "\n",
    "# 动态生成 line_positions\n",
    "def generate_line_positions_by_finger(layout, keys_per_finger):\n",
    "    line_positions = {}\n",
    "    for char in layout:\n",
    "        finger, position_in_finger = get_finger_and_key_position(char, layout, keys_per_finger)\n",
    "        line_positions[char] = (finger, position_in_finger)  # 每个字符映射为 (手指索引, 在手指的具体位置)\n",
    "    return line_positions\n",
    "\n",
    "# 生成 line_positions\n",
    "line_positions = generate_line_positions_by_finger(layout['qwerty'], keys_per_finger)\n",
    "\n",
    "# 带有换行惩罚的距离计算函数\n",
    "def calculate_distance_with_penalty(input_string, layout_string, line_positions, base_distances, penalty=1):\n",
    "    total_distance = 0\n",
    "    for i in range(len(input_string) - 1):\n",
    "        current_key = input_string[i]\n",
    "        next_key = input_string[i + 1]\n",
    "        current_pos = layout_string.index(current_key)\n",
    "        next_pos = layout_string.index(next_key)\n",
    "\n",
    "        # 计算基本距离\n",
    "        distance = base_distances[current_pos][next_pos]\n",
    "        total_distance += distance\n",
    "\n",
    "        # 检查是否换行（跨越手指），加上惩罚\n",
    "        if line_positions[current_key][0] != line_positions[next_key][0]:  # 判断是否换行（手指）\n",
    "            total_distance += penalty\n",
    "\n",
    "    return total_distance"
   ]
  },
  {
   "cell_type": "code",
   "execution_count": 156,
   "metadata": {},
   "outputs": [],
   "source": [
    "# # 示例使用\n",
    "# base_distances = [[0]*len('qazwsxedcrfvtgbyhnujmik,ol.p;/') for _ in range('qazwsxedcrfvtgbyhnujmik,ol.p;/')]  # 示例距离矩阵\n",
    "# penalty_distance = calculate_distance_with_penalty(full_text, 'qazwsxedcrfvtgbyhnujmik,ol.p;/', line_positions, base_distances)\n",
    "# print(f\"带有换行惩罚的总距离: {penalty_distance}\")"
   ]
  },
  {
   "cell_type": "markdown",
   "metadata": {},
   "source": [
    "### Test the distance\n",
    "\n",
    "Calculate the total distance for a test string."
   ]
  },
  {
   "cell_type": "code",
   "execution_count": 157,
   "metadata": {},
   "outputs": [],
   "source": [
    "layout = {}  # 创建一个空字典\n",
    "\n",
    "# 向字典中添加键值对\n",
    "layout['qwerty'] = 'qazwsxedcrfvtgbyhnujmik,ol.p;/'\n",
    "layout['qwertz'] = 'qaywsxedcrfvtgbzhnujmik,ol.p;/'\n",
    "layout['devorak'] = '/a;,oq.ejpukyixfdbghmctwrnvlsz'\n",
    "layout['colemak'] = 'qazwrxfscptvgdbjhklnmue,yi.;o?'\n",
    "layout['rstlne'] = 'qagwsxdecfrvzl/;hbunjkimyo,pt.'\n",
    "# layout['cyletix1'] = 'qazwsxdecrtv;gbyhjunmki,fo.pl/'\n",
    "# layout['cyletix2'] = 'qazwsxdecrtvfgbyhjunmki,lo.p;/'\n",
    "# layout['cyletix3'] = 'qazwsxdecrtvfgbyhnjumki,lo.p;/'\n",
    "# layout['cyletix31'] = 'qazwsxdecrtvfgbyhnkjmiu,lo.p;/'\n",
    "# layout['cyletix32'] = 'qazwsxdecrtvfgb;hnyjmki,lo.pu/'\n",
    "# layout['cyletix33'] = 'qazwsxdecrtvfgbyhnkjmui,lo.p;/'\n",
    "# layout['cyletix34'] = 'qazwsxdecrtvfgbyhnjlmki,po.;u/'\n",
    "# layout['cyletix4'] = 'qazwsxdecrtv/g,;h.jumkifloypnb'\n",
    "# layout['cyletix5'] = 'qazwsxdecrtv,gb.hnjumkifloyp;/'\n",
    "# layout['cyletix6'] = 'qazwsxdecrtv,gb.hnjumkiylo;pf/'\n",
    "# layout['cyletix7'] = 'qrzhsjdncftg;lbyuxwemvi,ko.pa/'\n",
    "# layout['cyletix8'] = 'qhrfnjdtczsg;lbyuxwemvi,ko.pa/'\n",
    "layout['cyletix10'] = 'qazwsxdecrtvfgb;hnjlmki,yo.pu/'\n",
    "\n",
    "# layout['ga_4'] = 'qazwsxyncrfkdgb?l;utmvi,oe.phj'\n",
    "# layout['ga_41'] = 'qazwsxyncrfkdgb;ljutmvi,oe.ph/'\n",
    "# layout['ga_7'] = 'qa.yexgocksvjw;?dbfhmui,rnlptz'\n",
    "# layout['ga_test8'] = 'yafwoxlscjrvqz;?kbdtmgi,ue.pnh'\n",
    "# layout['ga_9'] = 'qazwsxyocfrvbd;?kjltmgi,ue.pnh'\n",
    "layout['ga_10'] = 'qazwsxyocrhv;db?kjltmgi,ue.pnf'\n",
    "# layout['ga_10v1'] = 'qazwsxyocrfvhdb;kjltmgi,ue.pn/'\n",
    "# layout['ga_10v2'] = 'qazwsxyocrfvhdb;knljmgi,ue.pt/'\n",
    "# layout['ga_10v3'] = 'qazwsxyocrfvdgb;hnljmki,ue.pt/'\n",
    "layout['ga_10v4'] = 'qazwsxyecrfvdgb;hnljmki,uo.pt/'\n",
    "# layout['ga_10v5'] = 'qazwsxyecrfvdgb;hnljmki,to.pu/'\n",
    "# layout['ga_11'] = 'qtzwsxpdhrnvflbyu;gjmci,oe.?ak'\n",
    "layout['ga_12'] = 'qazwsxjdcrnvflbyh;ugm?i,oe.ptk'\n",
    "# layout['ga_13'] = 'qazwsxyocrhv;db?kjltmgi,ue.pnf'"
   ]
  },
  {
   "cell_type": "markdown",
   "metadata": {},
   "source": [
    "#### 自定义横纵转换函数"
   ]
  },
  {
   "cell_type": "code",
   "execution_count": 158,
   "metadata": {},
   "outputs": [
    {
     "data": {
      "text/plain": [
       "{'qwerty': 'qwertyuiopasdfghjkl;zxcvbnm,./',\n",
       " 'qwertz': 'qwertzuiopasdfghjkl;yxcvbnm,./',\n",
       " 'devorak': '/,.pyfgcrlaoeuidhtns;qjkxbmwvz',\n",
       " 'colemak': 'qwfpgjluy;arstdhneiozxcvbkm,.?',\n",
       " 'rstlne': 'qwdfz;ukypaserlhniotgxcv/bjm,.',\n",
       " 'cyletix10': 'qwdrf;jkypasetghliouzxcvbnm,./',\n",
       " 'ga_10': 'qwyr;?lgupasohdktienzxcvbjm,.f',\n",
       " 'ga_10v4': 'qwyrd;lkupasefghjiotzxcvbnm,./',\n",
       " 'ga_12': 'qwjrfyu?opasdnlhgietzxcvb;m,.k'}"
      ]
     },
     "execution_count": 158,
     "metadata": {},
     "output_type": "execute_result"
    }
   ],
   "source": [
    "def vertical_to_horizontal(vertical_layout):\n",
    "    # 初始化一个空列表保存结果\n",
    "    result = [''] * 3  # 三行布局\n",
    "    # 遍历字符并按列数分配\n",
    "    for i, char in enumerate(vertical_layout):\n",
    "        result[i % 3] += char\n",
    "    # 将三行按顺序拼接\n",
    "    return ''.join(result)\n",
    "\n",
    "layout_h={}\n",
    "\n",
    "# 遍历字典并转换布局\n",
    "for name, vertical_layout in layout.items():\n",
    "    horizontal_layout = vertical_to_horizontal(vertical_layout)\n",
    "    layout_h[name] = horizontal_layout\n",
    "    # print(f\"{name}: {horizontal_layout}\")\n",
    "layout_h\n"
   ]
  },
  {
   "cell_type": "code",
   "execution_count": 159,
   "metadata": {},
   "outputs": [
    {
     "data": {
      "text/plain": [
       "'qwyrd;lkupasofghjietzxcvbnm,./'"
      ]
     },
     "execution_count": 159,
     "metadata": {},
     "output_type": "execute_result"
    }
   ],
   "source": [
    "vertical_to_horizontal('qazwsxyocrfvdgb;hnljmki,ue.pt/')"
   ]
  },
  {
   "cell_type": "code",
   "execution_count": 160,
   "metadata": {},
   "outputs": [
    {
     "name": "stdout",
     "output_type": "stream",
     "text": [
      "qwerty: qazwsxedcrfvtgbyhnujmik,ol.p;/\n",
      "qwertz: qaywsxedcrfvtgbzhnujmik,ol.p;/\n",
      "devorak: /a;,oq.ejpukyixfdbghmctwrnvlsz\n",
      "colemak: qazwrxfscptvgdbjhklnmue,yi.;o?\n",
      "rstlne: qagwsxdecfrvzl/;hbunjkimyo,pt.\n",
      "cyletix10: qazwsxdecrtvfgb;hnjlmki,yo.pu/\n",
      "ga_10: qazwsxyocrhv;db?kjltmgi,ue.pnf\n",
      "ga_10v4: qazwsxyecrfvdgb;hnljmki,uo.pt/\n",
      "ga_12: qazwsxjdcrnvflbyh;ugm?i,oe.ptk\n"
     ]
    }
   ],
   "source": [
    "def horizontal_to_vertical(horizontal_layout):\n",
    "    # 初始化一个长度为 30 的空列表存储结果\n",
    "    result = [''] * len(horizontal_layout)\n",
    "    # 计算每列的长度\n",
    "    columns = 10  # 假设键盘分为 10 列\n",
    "    # 遍历输入字符串，将字符分配到对应列\n",
    "    for i, char in enumerate(horizontal_layout):\n",
    "        result[i % columns] += char\n",
    "    # 拼接结果并返回\n",
    "    return ''.join(result)\n",
    "\n",
    "# 遍历字典并转换布局\n",
    "for name, horizontal_layout in layout_h.items():\n",
    "    vertical_layout = horizontal_to_vertical(horizontal_layout)\n",
    "    print(f\"{name}: {vertical_layout}\")"
   ]
  },
  {
   "cell_type": "markdown",
   "metadata": {},
   "source": [
    "Calculate the total distance for the entire dataset."
   ]
  },
  {
   "cell_type": "code",
   "execution_count": 161,
   "metadata": {},
   "outputs": [
    {
     "data": {
      "text/plain": [
       "'qazwsxyocrfvdgb;hnljmki,ue.pt/'"
      ]
     },
     "execution_count": 161,
     "metadata": {},
     "output_type": "execute_result"
    }
   ],
   "source": [
    "horizontal_to_vertical('qwyrd;lkupasofghjietzxcvbnm,./') #测试"
   ]
  },
  {
   "cell_type": "code",
   "execution_count": 162,
   "metadata": {},
   "outputs": [
    {
     "data": {
      "text/plain": [
       "518358.48707694106"
      ]
     },
     "execution_count": 162,
     "metadata": {},
     "output_type": "execute_result"
    }
   ],
   "source": [
    "KeyboardLayout=(genome_to_keyboard(list(layout['cyletix10'])))\n",
    "total_distance(full_text['arxiv'], KeyboardLayout)"
   ]
  },
  {
   "cell_type": "markdown",
   "metadata": {},
   "source": [
    "### 连续重复手指次数计算"
   ]
  },
  {
   "cell_type": "code",
   "execution_count": 163,
   "metadata": {},
   "outputs": [
    {
     "name": "stdout",
     "output_type": "stream",
     "text": [
      "同一手指连续输入的次数为：92212\n"
     ]
    }
   ],
   "source": [
    "# 定义每个手指负责的键位\n",
    "fingerMap = {}\n",
    "for fingerIndex, keyIndexes in enumerate(keys_per_finger):\n",
    "    for index in keyIndexes:\n",
    "        fingerMap[index] = fingerIndex\n",
    "\n",
    "# 计算同一手指连续输入的次数\n",
    "def finger_repeat(text,KeyboardLayout):\n",
    "    sameFingerCount = 0\n",
    "    lastFinger = None\n",
    "    for char in text:\n",
    "        keyIndex = KeyboardLayout.get(char)  # 直接使用字典查找字符索引\n",
    "        if keyIndex is not None:\n",
    "            currentFinger = fingerMap.get(keyIndex)\n",
    "            if currentFinger is not None and currentFinger == lastFinger:\n",
    "                sameFingerCount += 1\n",
    "            lastFinger = currentFinger\n",
    "    return sameFingerCount\n",
    "\n",
    "# 在原有的数据处理基础上添加新功能\n",
    "KeyboardLayout=(genome_to_keyboard(list(layout['cyletix10'])))\n",
    "sameFingerRepeats = finger_repeat(full_text['arxiv'],KeyboardLayout)\n",
    "print(f\"同一手指连续输入的次数为：{sameFingerRepeats}\")\n"
   ]
  },
  {
   "cell_type": "markdown",
   "metadata": {},
   "source": [
    "### 定义汉明距离\n",
    "用于衡量两个布局的相似程度, 越小越相似"
   ]
  },
  {
   "cell_type": "code",
   "execution_count": 164,
   "metadata": {},
   "outputs": [
    {
     "name": "stdout",
     "output_type": "stream",
     "text": [
      "两个布局之间的汉明距离是: 12\n"
     ]
    }
   ],
   "source": [
    "def cal_hamming_distance(layout1, layout2):\n",
    "    if len(layout1) != len(layout2):\n",
    "        raise ValueError(\"两个布局必须有相同数量的键位\")\n",
    "    return sum(c1 != c2 for c1, c2 in zip(layout1, layout2))\n",
    "\n",
    "# 计算距离\n",
    "hamming_distance = cal_hamming_distance(layout['qwerty'], layout['cyletix10'])\n",
    "print(\"两个布局之间的汉明距离是:\", hamming_distance)\n"
   ]
  },
  {
   "cell_type": "markdown",
   "metadata": {},
   "source": [
    "### 优化距离\n",
    "定义一个新的距离, 这个距离的定义依赖于手指的分配, 在这个距离下如果两个布局之间的差异导致位置变化为1, 分配手指变化则距离为2; 如果左右手都改变的话, 距离为3"
   ]
  },
  {
   "cell_type": "code",
   "execution_count": 165,
   "metadata": {},
   "outputs": [],
   "source": [
    "def cal_punish_distance(layout1, layout2):\n",
    "    if len(layout1) != len(layout2):\n",
    "        raise ValueError(\"两个布局必须有相同数量的键位\")\n",
    "\n",
    "\n",
    "    distance_punish=0\n",
    "    # 构建反向索引字典\n",
    "    layout1_dict = {}\n",
    "    for i, finger_keys in enumerate(keys_per_finger):\n",
    "        for j, key_index in enumerate(finger_keys):\n",
    "            value = layout1[key_index]\n",
    "            if value not in layout1_dict:\n",
    "                layout1_dict[value] = []\n",
    "            layout1_dict[value].append((i, j))\n",
    "\n",
    "    # 遍历 layout2 并检查是否存在于 layout1_dict\n",
    "    for i_1, finger_keys in enumerate(keys_per_finger):\n",
    "        for j_1, key_index in enumerate(finger_keys):\n",
    "            value = layout2[key_index]\n",
    "            if value in layout1_dict:\n",
    "                i_2, j_2 = layout1_dict[value][0]  # 获取第一个匹配的索引\n",
    "                break\n",
    "\n",
    "        # 判断同一手指是否在不同的列\n",
    "        if j_1 != j_2:\n",
    "            distance_punish += 1\n",
    "        \n",
    "        # 判断同一手指是否在不同的行，且在同一边（左手或右手）\n",
    "        if i_1 != i_2 and (i_1 - 5) * (i_2 - 4) > 0:\n",
    "            distance_punish += 1\n",
    "\n",
    "        # 判断同一手指是否跨越了中轴线（左右手交换）\n",
    "        if i_1 != i_2 and j_1 != j_2 and (i_1 - 5) * (i_2 - 4) < 0:\n",
    "            distance_punish += 1\n",
    "\n",
    "    return distance_punish\n",
    "\n",
    "# 计算距离\n",
    "# advanced_distance = cal_punish_distance(layout['qwerty'], layout['cyletix10'])\n",
    "# print(\"两个布局之间的改进距离是:\", advanced_distance)\n"
   ]
  },
  {
   "cell_type": "code",
   "execution_count": 166,
   "metadata": {},
   "outputs": [
    {
     "name": "stdout",
     "output_type": "stream",
     "text": [
      "Layout\tkeys\tarxiv\tchinese\tpython\thamming\tpunish\trepeat\n",
      "qwerty\tqazwsxedcrfvtgbyhnujmik,ol.p;/\t 905782\t506503\t103831\t0\t0\t176943\t\n",
      "qwertz\tqaywsxedcrfvtgbzhnujmik,ol.p;/\t 898213\t507934\t103601\t2\t2\t187169\t\n",
      "devorak\t/a;,oq.ejpukyixfdbghmctwrnvlsz\t 500412\t325192\t69279\t28\t13\t148019\t\n",
      "colemak\tqazwrxfscptvgdbjhklnmue,yi.;o?\t 417029\t316830\t60409\t18\t5\t103387\t\n",
      "rstlne\tqagwsxdecfrvzl/;hbunjkimyo,pt.\t 415583\t314191\t61834\t20\t4\t151085\t\n",
      "cyletix10\tqazwsxdecrtvfgb;hnjlmki,yo.pu/\t 518358\t331261\t65249\t12\t4\t141764\t\n",
      "ga_10\tqazwsxyocrhv;db?kjltmgi,ue.pnf\t 441359\t264343\t63758\t16\t2\t90477\t\n",
      "ga_10v4\tqazwsxyecrfvdgb;hnljmki,uo.pt/\t 539769\t360576\t68236\t10\t4\t102374\t\n",
      "ga_12\tqazwsxjdcrnvflbyh;ugm?i,oe.ptk\t 519859\t274086\t67684\t11\t2\t124236\t\n"
     ]
    }
   ],
   "source": [
    "# 结果汇总\n",
    "print(f\"Layout\\tkeys\\tarxiv\\tchinese\\tpython\\thamming\\tpunish\\trepeat\")\n",
    "\n",
    "for layout_name, keys in layout.items():\n",
    "    KeyboardLayout=(genome_to_keyboard(list(layout[layout_name]))) \n",
    "    results = []\n",
    "    for language, text in full_text.items():\n",
    "        distance = total_distance(text, KeyboardLayout)\n",
    "        results.append(f\"{int(distance)}\\t\")\n",
    "    results.append(f\"{cal_hamming_distance(layout['qwerty'], keys)}\\t\")\n",
    "    results.append(f\"{cal_punish_distance(layout['qwerty'], keys)}\\t\")\n",
    "    repeat_count = 0\n",
    "    for language, text in full_text.items():\n",
    "        repeat_count += finger_repeat(full_text[language],KeyboardLayout)\n",
    "    results.append(f\"{repeat_count}\\t\")\n",
    "    print(f\"{layout_name}\\t{keys}\\t\", \"\".join(results))"
   ]
  },
  {
   "cell_type": "code",
   "execution_count": 167,
   "metadata": {},
   "outputs": [
    {
     "name": "stdout",
     "output_type": "stream",
     "text": [
      "{15: ';', 23: ',', 26: '.', 29: '/'}\n"
     ]
    }
   ],
   "source": [
    "def extract_punctuation_positions(s):\n",
    "    return {i: char for i, char in enumerate(s) if not char.isalnum()}\n",
    "\n",
    "\n",
    "# 调用函数并打印结果\n",
    "fixed_positions = extract_punctuation_positions(layout['cyletix10'])\n",
    "print(fixed_positions)\n"
   ]
  },
  {
   "cell_type": "markdown",
   "metadata": {},
   "source": [
    "## Genetic Algorithm\n",
    "\n",
    "### Initialize the population\n",
    "\n",
    "This function will initialize the population for the first generation with random keyboards for a given population size."
   ]
  },
  {
   "cell_type": "code",
   "execution_count": 168,
   "metadata": {},
   "outputs": [],
   "source": [
    "def init_population(pop_size):\n",
    "    keyboard_chars = list(layout['ga_10'])\n",
    "    population = []\n",
    "    for i in range(pop_size):\n",
    "        \n",
    "        # rand_gnome = keyboard_chars[:]\n",
    "        # random.shuffle(rand_gnome)\n",
    "        letters = [char for char in keyboard_chars if char.isalpha()]\n",
    "        punctua = [(index, char) for index, char in enumerate(keyboard_chars) if not char.isalpha()]\n",
    "        random.shuffle(letters)\n",
    "        rand_gnome = [letters.pop(0) if index not in [p_index for p_index, p_char in punctua] else char for index, char in enumerate(keyboard_chars)]\n",
    "\n",
    "        population.append(rand_gnome)\n",
    "    return population"
   ]
  },
  {
   "cell_type": "code",
   "execution_count": 169,
   "metadata": {},
   "outputs": [
    {
     "name": "stdout",
     "output_type": "stream",
     "text": [
      "qazwsxdecrtvfgb;hnjlmki,yo.pu/\n",
      "phscmejavlfq;ir?xuztknb,yd.gow\n"
     ]
    }
   ],
   "source": [
    "# 洗牌测试\n",
    "keyboard_chars = list(layout['ga_10'])     \n",
    "letters = [char for char in keyboard_chars if char.isalpha()]\n",
    "punctua = [(index, char) for index, char in enumerate(keyboard_chars) if not char.isalpha()]\n",
    "random.shuffle(letters)\n",
    "rand_gnome = [letters.pop(0) if index not in [p_index for p_index, p_char in punctua] else char for index, char in enumerate(keyboard_chars)]\n",
    "\n",
    "result = ''.join(rand_gnome)\n",
    "print(layout['cyletix10'])\n",
    "print(result)"
   ]
  },
  {
   "cell_type": "markdown",
   "metadata": {},
   "source": [
    "### Combine two keyboards\n",
    "\n",
    "This function defines the logic for \"mating\" two keyboards to create a new keyboard. The function will select a random point to split the keyboards. It will begin filling in the child keyboard to the right of the split point with a random number of keys from the first keyboard. It will then fill in the remaining keys with keys from keyboard 2. There is also a random chance of mutation where two keys on the child keyboard will switch places."
   ]
  },
  {
   "cell_type": "code",
   "execution_count": 170,
   "metadata": {},
   "outputs": [],
   "source": [
    "def mate(board1, board2, mutation_rate):\n",
    "    keyboard_size = len(board1)\n",
    "    idx = random.randint(0, keyboard_size-1)\n",
    "    length = random.randint(0,keyboard_size-1)\n",
    "    child = ['_' for i in range(keyboard_size)]\n",
    "    for i in range(length):\n",
    "        if idx > keyboard_size-1:\n",
    "            idx = 0\n",
    "        child[idx] = board1[idx]\n",
    "        idx += 1\n",
    "\n",
    "    child_idx = idx\n",
    "    while '_' in child:\n",
    "        if idx > keyboard_size-1:\n",
    "            idx = 0\n",
    "        if child_idx > keyboard_size-1:\n",
    "            child_idx = 0\n",
    "        char = board2[idx]\n",
    "        if char in child:\n",
    "            idx += 1\n",
    "            continue\n",
    "        child[child_idx] = board2[idx]\n",
    "        child_idx += 1\n",
    "        idx += 1\n",
    "        \n",
    "    prob = random.random()\n",
    "    if prob < mutation_rate:\n",
    "        point1 = random.randint(0, keyboard_size-1)\n",
    "        point2 = random.randint(0, keyboard_size-1)\n",
    "        allele1 = child[point1]\n",
    "        allele2 = child[point2]\n",
    "        child[point1] = allele2\n",
    "        child[point2] = allele1\n",
    "        \n",
    "    return ''.join(child)"
   ]
  },
  {
   "cell_type": "markdown",
   "metadata": {},
   "source": [
    "### Evaluate the population\n",
    "\n",
    "This function will evaluate a given population by calcualating the total distance for each keyboard in the population. It returns the evals as a dictionary. It also returns the indicies sorted in order of the total distance of the keyboard at that index."
   ]
  },
  {
   "cell_type": "code",
   "execution_count": 171,
   "metadata": {},
   "outputs": [],
   "source": [
    "def get_evals(population):\n",
    "    evals = {}\n",
    "    for i, genome in enumerate(population):\n",
    "        keyboard = genome_to_keyboard(genome)\n",
    "        \n",
    "        dist = total_distance(total_full_text, keyboard)\n",
    "\n",
    "        repeat_count = finger_repeat(total_full_text,keyboard) #重复\n",
    "        # evals[i] = int(dist*(repeat_count+20)/20000000) #dist\n",
    "\n",
    "        # dist_qwerty=total_distance(total_full_text,genome_to_keyboard(layout['qwerty']))\n",
    "        pop_hamming_dist=cal_hamming_distance(layout['qwerty'], genome)\n",
    "        pop_punish_dist=cal_punish_distance(layout['qwerty'], genome)\n",
    "        evals[i] = int((dist+repeat_count*2)*(pop_hamming_dist+pop_punish_dist*0.5+10)/200000) #dist\n",
    "\n",
    "    sorted_evals = [k for k, v in sorted(evals.items(), key=lambda item: item[1])]\n",
    "    return evals, sorted_evals"
   ]
  },
  {
   "cell_type": "markdown",
   "metadata": {},
   "source": [
    "### Create next generation\n",
    "\n",
    "This function will create a new generation from the current population. It will directly copy the top 10% best keyboards from the current generation to the next generation. It will then randomly combine keyboards from the top 50% best keyboards to create the remaining population for the next generation."
   ]
  },
  {
   "cell_type": "code",
   "execution_count": 172,
   "metadata": {},
   "outputs": [],
   "source": [
    "def new_generation(population, sorted_evals, p_size, mutation_rate):\n",
    "    new_gen = []\n",
    "    \n",
    "    sorted_population = []\n",
    "    for i in sorted_evals:\n",
    "        sorted_population.append(population[i])\n",
    "        \n",
    "    for i in range(int(p_size*0.1)):\n",
    "        new_gen.append(sorted_population[i])\n",
    "\n",
    "    for _ in range(int(p_size*0.9)):\n",
    "        p1 = random.choice(sorted_population[:int(p_size*0.5)])\n",
    "        p2 = random.choice(sorted_population[:int(p_size*0.5)])\n",
    "        child = mate(p1, p2, mutation_rate)\n",
    "        new_gen.append(child)\n",
    "    \n",
    "    return new_gen"
   ]
  },
  {
   "cell_type": "markdown",
   "metadata": {},
   "source": [
    "### Run the algorithm\n",
    "\n",
    "The following code will run the genetic algorithm. Adjust the constants `P_SIZE` to change the population size, `GENERATIONS` to change the total number of generations the algorithm will run, and `MUTATION_RATE` to change how often mutations occur during mating. The training data will be stored to the `learning` dictionary and be saved to a json file once the algorithm is complete. This will contain information for each generation. It will contain the total every keyboard in the population, the best keyboard in the population, the lowest distance of the best keyboard, and the average distance of all the keyboards."
   ]
  },
  {
   "cell_type": "code",
   "execution_count": null,
   "metadata": {},
   "outputs": [],
   "source": [
    "P_SIZE = 100\n",
    "GENERATIONS = 200\n",
    "MUTATION_RATE = 0.2\n",
    "\n",
    "learning = {\n",
    "    'generations': {}\n",
    "}"
   ]
  },
  {
   "cell_type": "markdown",
   "metadata": {},
   "source": [
    "### 加载种群状态"
   ]
  },
  {
   "cell_type": "code",
   "execution_count": 189,
   "metadata": {},
   "outputs": [],
   "source": [
    "LEARNING_JSON = 'output/learning14.json'\n",
    "\n",
    "def load_population():\n",
    "    if os.path.exists(LEARNING_JSON):\n",
    "        with open(LEARNING_JSON, 'r') as fp:\n",
    "            data = json.load(fp)\n",
    "            last_gen_number = max(data['generations'].keys(), key=int)\n",
    "            last_generation = data['generations'][last_gen_number]\n",
    "            return last_generation['population'], int(last_gen_number) + 1\n",
    "    else:\n",
    "        return init_population(P_SIZE), 0  # 初始化种群如果没有现成的学习状态\n",
    "\n",
    "population, start_generation = load_population()"
   ]
  },
  {
   "cell_type": "markdown",
   "metadata": {},
   "source": [
    "### 开始进化"
   ]
  },
  {
   "cell_type": "code",
   "execution_count": 190,
   "metadata": {},
   "outputs": [
    {
     "name": "stdout",
     "output_type": "stream",
     "text": [
      "GEN: 1, AVG: 184.36, MIN: 113, BEST: qazwsxyecrfvjgb?h;unmdt,ol.pik\n",
      "GEN: 2, AVG: 178.96, MIN: 113, BEST: qazwsxyecrfvjgb?h;unmdt,ol.pik\n",
      "GEN: 3, AVG: 182.0, MIN: 113, BEST: qazwsxyecrfvjgb?h;unmdt,ol.pik\n",
      "GEN: 4, AVG: 190.01, MIN: 113, BEST: qazwsxyecrfvjgb?h;unmdt,ol.pik\n",
      "GEN: 5, AVG: 171.55, MIN: 113, BEST: qazwsxyecrfvjgb?h;unmdt,ol.pik\n",
      "GEN: 6, AVG: 178.88, MIN: 113, BEST: qazwsxyecrfvjgb?h;unmdt,ol.pik\n",
      "GEN: 7, AVG: 187.42, MIN: 113, BEST: qazwsxyecrfvjgb?h;unmdt,ol.pik\n",
      "GEN: 8, AVG: 178.06, MIN: 113, BEST: qazwsxyecrfvjgb?h;unmdt,ol.pik\n",
      "GEN: 9, AVG: 181.78, MIN: 113, BEST: qazwsxyecrfvjgb?h;unmdt,ol.pik\n",
      "GEN: 10, AVG: 176.44, MIN: 113, BEST: qazwsxyecrfvjgb?h;unmdt,ol.pik\n",
      "GEN: 11, AVG: 182.29, MIN: 113, BEST: qazwsxyecrfvjgb?h;unmdt,ol.pik\n",
      "GEN: 12, AVG: 201.27, MIN: 113, BEST: qazwsxyecrfvjgb?h;unmdt,ol.pik\n",
      "GEN: 13, AVG: 207.36, MIN: 113, BEST: qazwsxyecrfvjgb?h;unmdt,ol.pik\n",
      "GEN: 14, AVG: 193.27, MIN: 113, BEST: qazwsxyecrfvjgb?h;unmdt,ol.pik\n",
      "GEN: 15, AVG: 214.08, MIN: 113, BEST: qazwsxyecrfvjgb?h;unmdt,ol.pik\n",
      "GEN: 16, AVG: 208.29, MIN: 113, BEST: qazwsxyecrfvjgb?h;unmdt,ol.pik\n",
      "GEN: 17, AVG: 220.14, MIN: 113, BEST: qazwsxyecrfvjgb?h;unmdt,ol.pik\n",
      "GEN: 18, AVG: 205.65, MIN: 113, BEST: qazwsxyecrfvjgb?h;unmdt,ol.pik\n",
      "GEN: 19, AVG: 202.67, MIN: 113, BEST: qazwsxyecrfvjgb?h;unmdt,ol.pik\n",
      "GEN: 20, AVG: 190.52, MIN: 113, BEST: qazwsxyecrfvjgb?h;unmdt,ol.pik\n",
      "GEN: 21, AVG: 186.94, MIN: 113, BEST: qazwsxyecrfvjgb?h;unmdt,ol.pik\n",
      "GEN: 22, AVG: 174.82, MIN: 113, BEST: qazwsxyecrfvjgb?h;unmdt,ol.pik\n",
      "GEN: 23, AVG: 165.05, MIN: 113, BEST: qazwsxyecrfvjgb?h;unmdt,ol.pik\n",
      "GEN: 24, AVG: 164.42, MIN: 113, BEST: qazwsxyecrfvjgb?h;unmdt,ol.pik\n",
      "GEN: 25, AVG: 175.77, MIN: 113, BEST: qazwsxyecrfvjgb?h;unmdt,ol.pik\n",
      "GEN: 26, AVG: 178.51, MIN: 113, BEST: qazwsxyecrfvjgb?h;unmdt,ol.pik\n",
      "GEN: 27, AVG: 189.59, MIN: 113, BEST: qazwsxyecrfvjgb?h;unmdt,ol.pik\n",
      "GEN: 28, AVG: 188.89, MIN: 113, BEST: qazwsxyecrfvjgb?h;unmdt,ol.pik\n",
      "GEN: 29, AVG: 191.27, MIN: 113, BEST: qazwsxyecrfvjgb?h;unmdt,ol.pik\n",
      "GEN: 30, AVG: 189.78, MIN: 113, BEST: qazwsxyecrfvjgb?h;unmdt,ol.pik\n",
      "GEN: 31, AVG: 192.93, MIN: 113, BEST: qazwsxyecrfvjgb?h;unmdt,ol.pik\n",
      "GEN: 32, AVG: 184.2, MIN: 113, BEST: qazwsxyecrfvjgb?h;unmdt,ol.pik\n",
      "GEN: 33, AVG: 189.71, MIN: 113, BEST: qazwsxyecrfvjgb?h;unmdt,ol.pik\n",
      "GEN: 34, AVG: 200.88, MIN: 113, BEST: qazwsxyecrfvjgb?h;unmdt,ol.pik\n",
      "GEN: 35, AVG: 173.65, MIN: 113, BEST: qazwsxyecrfvjgb?h;unmdt,ol.pik\n",
      "GEN: 36, AVG: 181.95, MIN: 113, BEST: qazwsxyecrfvjgb?h;unmdt,ol.pik\n",
      "GEN: 37, AVG: 169.82, MIN: 113, BEST: qazwsxyecrfvjgb?h;unmdt,ol.pik\n",
      "GEN: 38, AVG: 174.37, MIN: 113, BEST: qazwsxyecrfvjgb?h;unmdt,ol.pik\n",
      "GEN: 39, AVG: 167.61, MIN: 113, BEST: qazwsxyecrfvjgb?h;unmdt,ol.pik\n",
      "GEN: 40, AVG: 172.24, MIN: 113, BEST: qazwsxyecrfvjgb?h;unmdt,ol.pik\n",
      "GEN: 41, AVG: 175.05, MIN: 113, BEST: qazwsxyecrfvjgb?h;unmdt,ol.pik\n",
      "GEN: 42, AVG: 167.23, MIN: 113, BEST: qazwsxyecrfvjgb?h;unmdt,ol.pik\n",
      "GEN: 43, AVG: 185.76, MIN: 113, BEST: qazwsxyecrfvjgb?h;unmdt,ol.pik\n",
      "GEN: 44, AVG: 178.32, MIN: 113, BEST: qazwsxyecrfvjgb?h;unmdt,ol.pik\n",
      "GEN: 45, AVG: 172.25, MIN: 113, BEST: qazwsxyecrfvjgb?h;unmdt,ol.pik\n",
      "GEN: 46, AVG: 175.76, MIN: 113, BEST: qazwsxyecrfvjgb?h;unmdt,ol.pik\n",
      "GEN: 47, AVG: 176.74, MIN: 113, BEST: qazwsxyecrfvjgb?h;unmdt,ol.pik\n",
      "GEN: 48, AVG: 172.6, MIN: 113, BEST: qazwsxyecrfvjgb?h;unmdt,ol.pik\n",
      "GEN: 49, AVG: 167.75, MIN: 113, BEST: qazwsxyecrfvjgb?h;unmdt,ol.pik\n",
      "GEN: 50, AVG: 169.0, MIN: 113, BEST: qazwsxyecrfvjgb?h;unmdt,ol.pik\n",
      "GEN: 51, AVG: 174.12, MIN: 113, BEST: qazwsxyecrfvjgb?h;unmdt,ol.pik\n",
      "GEN: 52, AVG: 174.83, MIN: 113, BEST: qazwsxyecrfvjgb?h;unmdt,ol.pik\n",
      "GEN: 53, AVG: 164.62, MIN: 113, BEST: qazwsxyecrfvjgb?h;unmdt,ol.pik\n",
      "GEN: 54, AVG: 168.29, MIN: 113, BEST: qazwsxyecrfvjgb?h;unmdt,ol.pik\n",
      "GEN: 55, AVG: 160.9, MIN: 113, BEST: qazwsxyecrfvjgb?h;unmdt,ol.pik\n",
      "GEN: 56, AVG: 160.75, MIN: 113, BEST: qazwsxyecrfvjgb?h;unmdt,ol.pik\n",
      "GEN: 57, AVG: 165.12, MIN: 113, BEST: qazwsxyecrfvjgb?h;unmdt,ol.pik\n",
      "GEN: 58, AVG: 178.38, MIN: 113, BEST: qazwsxyecrfvjgb?h;unmdt,ol.pik\n",
      "GEN: 59, AVG: 170.66, MIN: 113, BEST: qazwsxyecrfvjgb?h;unmdt,ol.pik\n",
      "GEN: 60, AVG: 172.19, MIN: 113, BEST: qazwsxyecrfvjgb?h;unmdt,ol.pik\n",
      "GEN: 61, AVG: 166.74, MIN: 113, BEST: qazwsxyecrfvjgb?h;unmdt,ol.pik\n",
      "GEN: 62, AVG: 173.28, MIN: 113, BEST: qazwsxyecrfvjgb?h;unmdt,ol.pik\n",
      "GEN: 63, AVG: 169.72, MIN: 113, BEST: qazwsxyecrfvjgb?h;unmdt,ol.pik\n",
      "GEN: 64, AVG: 173.19, MIN: 113, BEST: qazwsxyecrfvjgb?h;unmdt,ol.pik\n",
      "GEN: 65, AVG: 172.2, MIN: 113, BEST: qazwsxyecrfvjgb?h;unmdt,ol.pik\n",
      "GEN: 66, AVG: 187.43, MIN: 113, BEST: qazwsxyecrfvjgb?h;unmdt,ol.pik\n",
      "GEN: 67, AVG: 174.05, MIN: 113, BEST: qazwsxyecrfvjgb?h;unmdt,ol.pik\n",
      "GEN: 68, AVG: 167.77, MIN: 113, BEST: qazwsxyecrfvjgb?h;unmdt,ol.pik\n",
      "GEN: 69, AVG: 175.36, MIN: 113, BEST: qazwsxyecrfvjgb?h;unmdt,ol.pik\n",
      "GEN: 70, AVG: 168.49, MIN: 113, BEST: qazwsxyecrfvjgb?h;unmdt,ol.pik\n",
      "GEN: 71, AVG: 178.67, MIN: 113, BEST: qazwsxyecrfvjgb?h;unmdt,ol.pik\n",
      "GEN: 72, AVG: 189.16, MIN: 113, BEST: qazwsxyecrfvjgb?h;unmdt,ol.pik\n",
      "GEN: 73, AVG: 175.08, MIN: 113, BEST: qazwsxyecrfvjgb?h;unmdt,ol.pik\n",
      "GEN: 74, AVG: 164.45, MIN: 113, BEST: qazwsxyecrfvjgb?h;unmdt,ol.pik\n",
      "GEN: 75, AVG: 156.44, MIN: 113, BEST: qazwsxyecrfvjgb?h;unmdt,ol.pik\n",
      "GEN: 76, AVG: 160.17, MIN: 113, BEST: qazwsxyecrfvjgb?h;unmdt,ol.pik\n",
      "GEN: 77, AVG: 155.2, MIN: 113, BEST: qazwsxyecrfvjgb?h;unmdt,ol.pik\n",
      "GEN: 78, AVG: 165.5, MIN: 113, BEST: qazwsxyecrfvjgb?h;unmdt,ol.pik\n",
      "GEN: 79, AVG: 170.21, MIN: 113, BEST: qazwsxyecrfvjgb?h;unmdt,ol.pik\n",
      "GEN: 80, AVG: 172.68, MIN: 113, BEST: qazwsxyecrfvjgb?h;unmdt,ol.pik\n",
      "GEN: 81, AVG: 173.12, MIN: 113, BEST: qazwsxyecrfvjgb?h;unmdt,ol.pik\n",
      "GEN: 82, AVG: 179.85, MIN: 113, BEST: qazwsxyecrfvjgb?h;unmdt,ol.pik\n",
      "GEN: 83, AVG: 174.67, MIN: 113, BEST: qazwsxyecrfvjgb?h;unmdt,ol.pik\n",
      "GEN: 84, AVG: 175.05, MIN: 113, BEST: qazwsxyecrfvjgb?h;unmdt,ol.pik\n",
      "GEN: 85, AVG: 181.99, MIN: 113, BEST: qazwsxyecrfvjgb?h;unmdt,ol.pik\n",
      "GEN: 86, AVG: 173.23, MIN: 113, BEST: qazwsxyecrfvjgb?h;unmdt,ol.pik\n",
      "GEN: 87, AVG: 180.75, MIN: 113, BEST: qazwsxyecrfvjgb?h;unmdt,ol.pik\n",
      "GEN: 88, AVG: 162.39, MIN: 113, BEST: qazwsxyecrfvjgb?h;unmdt,ol.pik\n",
      "GEN: 89, AVG: 155.65, MIN: 113, BEST: qazwsxyecrfvjgb?h;unmdt,ol.pik\n",
      "GEN: 90, AVG: 165.47, MIN: 113, BEST: qazwsxyecrfvjgb?h;unmdt,ol.pik\n",
      "GEN: 91, AVG: 175.88, MIN: 113, BEST: qazwsxyecrfvjgb?h;unmdt,ol.pik\n",
      "GEN: 92, AVG: 179.84, MIN: 113, BEST: qazwsxyecrfvjgb?h;unmdt,ol.pik\n",
      "GEN: 93, AVG: 178.97, MIN: 113, BEST: qazwsxyecrfvjgb?h;unmdt,ol.pik\n",
      "GEN: 94, AVG: 175.59, MIN: 113, BEST: qazwsxyecrfvjgb?h;unmdt,ol.pik\n",
      "GEN: 95, AVG: 173.0, MIN: 113, BEST: qazwsxyecrfvjgb?h;unmdt,ol.pik\n",
      "GEN: 96, AVG: 173.28, MIN: 113, BEST: qazwsxyecrfvjgb?h;unmdt,ol.pik\n",
      "GEN: 97, AVG: 164.24, MIN: 113, BEST: qazwsxyecrfvjgb?h;unmdt,ol.pik\n",
      "GEN: 98, AVG: 169.95, MIN: 113, BEST: qazwsxyecrfvjgb?h;unmdt,ol.pik\n",
      "GEN: 99, AVG: 157.83, MIN: 113, BEST: qazwsxyecrfvjgb?h;unmdt,ol.pik\n",
      "GEN: 100, AVG: 174.99, MIN: 113, BEST: qazwsxyecrfvjgb?h;unmdt,ol.pik\n",
      "GEN: 101, AVG: 167.32, MIN: 113, BEST: qazwsxyecrfvjgb?h;unmdt,ol.pik\n",
      "GEN: 102, AVG: 174.93, MIN: 113, BEST: qazwsxyecrfvjgb?h;unmdt,ol.pik\n",
      "GEN: 103, AVG: 175.42, MIN: 113, BEST: qazwsxyecrfvjgb?h;unmdt,ol.pik\n",
      "GEN: 104, AVG: 167.46, MIN: 113, BEST: qazwsxyecrfvjgb?h;unmdt,ol.pik\n",
      "GEN: 105, AVG: 158.81, MIN: 113, BEST: qazwsxyecrfvjgb?h;unmdt,ol.pik\n",
      "GEN: 106, AVG: 175.06, MIN: 113, BEST: qazwsxyecrfvjgb?h;unmdt,ol.pik\n",
      "GEN: 107, AVG: 164.28, MIN: 113, BEST: qazwsxyecrfvjgb?h;unmdt,ol.pik\n",
      "GEN: 108, AVG: 174.17, MIN: 113, BEST: qazwsxyecrfvjgb?h;unmdt,ol.pik\n",
      "GEN: 109, AVG: 174.77, MIN: 113, BEST: qazwsxyecrfvjgb?h;unmdt,ol.pik\n",
      "GEN: 110, AVG: 167.45, MIN: 113, BEST: qazwsxyecrfvjgb?h;unmdt,ol.pik\n",
      "GEN: 111, AVG: 167.41, MIN: 113, BEST: qazwsxyecrfvjgb?h;unmdt,ol.pik\n",
      "GEN: 112, AVG: 164.58, MIN: 113, BEST: qazwsxyecrfvjgb?h;unmdt,ol.pik\n",
      "GEN: 113, AVG: 156.19, MIN: 113, BEST: qazwsxyecrfvjgb?h;unmdt,ol.pik\n",
      "GEN: 114, AVG: 153.27, MIN: 113, BEST: qazwsxyecrfvjgb?h;unmdt,ol.pik\n",
      "GEN: 115, AVG: 169.7, MIN: 113, BEST: qazwsxyecrfvjgb?h;unmdt,ol.pik\n",
      "GEN: 116, AVG: 166.6, MIN: 113, BEST: qazwsxyecrfvjgb?h;unmdt,ol.pik\n",
      "GEN: 117, AVG: 164.5, MIN: 113, BEST: qazwsxyecrfvjgb?h;unmdt,ol.pik\n",
      "GEN: 118, AVG: 171.69, MIN: 113, BEST: qazwsxyecrfvjgb?h;unmdt,ol.pik\n",
      "GEN: 119, AVG: 172.83, MIN: 113, BEST: qazwsxyecrfvjgb?h;unmdt,ol.pik\n",
      "GEN: 120, AVG: 177.62, MIN: 113, BEST: qazwsxyecrfvjgb?h;unmdt,ol.pik\n",
      "GEN: 121, AVG: 177.91, MIN: 113, BEST: qazwsxyecrfvjgb?h;unmdt,ol.pik\n",
      "GEN: 122, AVG: 169.93, MIN: 113, BEST: qazwsxyecrfvjgb?h;unmdt,ol.pik\n",
      "GEN: 123, AVG: 173.53, MIN: 113, BEST: qazwsxyecrfvjgb?h;unmdt,ol.pik\n",
      "GEN: 124, AVG: 170.18, MIN: 113, BEST: qazwsxyecrfvjgb?h;unmdt,ol.pik\n",
      "GEN: 125, AVG: 159.66, MIN: 113, BEST: qazwsxyecrfvjgb?h;unmdt,ol.pik\n",
      "GEN: 126, AVG: 166.45, MIN: 113, BEST: qazwsxyecrfvjgb?h;unmdt,ol.pik\n",
      "GEN: 127, AVG: 181.29, MIN: 113, BEST: qazwsxyecrfvjgb?h;unmdt,ol.pik\n",
      "GEN: 128, AVG: 164.35, MIN: 113, BEST: qazwsxyecrfvjgb?h;unmdt,ol.pik\n",
      "GEN: 129, AVG: 165.47, MIN: 113, BEST: qazwsxyecrfvjgb?h;unmdt,ol.pik\n",
      "GEN: 130, AVG: 177.63, MIN: 113, BEST: qazwsxyecrfvjgb?h;unmdt,ol.pik\n",
      "GEN: 131, AVG: 174.96, MIN: 113, BEST: qazwsxyecrfvjgb?h;unmdt,ol.pik\n",
      "GEN: 132, AVG: 169.6, MIN: 113, BEST: qazwsxyecrfvjgb?h;unmdt,ol.pik\n",
      "GEN: 133, AVG: 175.77, MIN: 113, BEST: qazwsxyecrfvjgb?h;unmdt,ol.pik\n",
      "GEN: 134, AVG: 167.7, MIN: 113, BEST: qazwsxyecrfvjgb?h;unmdt,ol.pik\n",
      "GEN: 135, AVG: 168.43, MIN: 113, BEST: qazwsxyecrfvjgb?h;unmdt,ol.pik\n",
      "GEN: 136, AVG: 172.54, MIN: 113, BEST: qazwsxyecrfvjgb?h;unmdt,ol.pik\n",
      "GEN: 137, AVG: 170.51, MIN: 113, BEST: qazwsxyecrfvjgb?h;unmdt,ol.pik\n",
      "GEN: 138, AVG: 177.49, MIN: 113, BEST: qazwsxyecrfvjgb?h;unmdt,ol.pik\n",
      "GEN: 139, AVG: 165.73, MIN: 113, BEST: qazwsxyecrfvjgb?h;unmdt,ol.pik\n",
      "GEN: 140, AVG: 173.43, MIN: 113, BEST: qazwsxyecrfvjgb?h;unmdt,ol.pik\n",
      "GEN: 141, AVG: 178.48, MIN: 113, BEST: qazwsxyecrfvjgb?h;unmdt,ol.pik\n",
      "GEN: 142, AVG: 181.07, MIN: 113, BEST: qazwsxyecrfvjgb?h;unmdt,ol.pik\n",
      "GEN: 143, AVG: 186.57, MIN: 113, BEST: qazwsxyecrfvjgb?h;unmdt,ol.pik\n",
      "GEN: 144, AVG: 185.86, MIN: 113, BEST: qazwsxyecrfvjgb?h;unmdt,ol.pik\n",
      "GEN: 145, AVG: 184.82, MIN: 113, BEST: qazwsxyecrfvjgb?h;unmdt,ol.pik\n",
      "GEN: 146, AVG: 184.76, MIN: 113, BEST: qazwsxyecrfvjgb?h;unmdt,ol.pik\n",
      "GEN: 147, AVG: 168.19, MIN: 113, BEST: qazwsxyecrfvjgb?h;unmdt,ol.pik\n",
      "GEN: 148, AVG: 176.84, MIN: 113, BEST: qazwsxyecrfvjgb?h;unmdt,ol.pik\n",
      "GEN: 149, AVG: 180.91, MIN: 113, BEST: qazwsxyecrfvjgb?h;unmdt,ol.pik\n",
      "GEN: 150, AVG: 165.46, MIN: 113, BEST: qazwsxyecrfvjgb?h;unmdt,ol.pik\n",
      "GEN: 151, AVG: 173.45, MIN: 113, BEST: qazwsxyecrfvjgb?h;unmdt,ol.pik\n",
      "GEN: 152, AVG: 166.78, MIN: 113, BEST: qazwsxyecrfvjgb?h;unmdt,ol.pik\n",
      "GEN: 153, AVG: 155.97, MIN: 113, BEST: qazwsxyecrfvjgb?h;unmdt,ol.pik\n",
      "GEN: 154, AVG: 158.67, MIN: 113, BEST: qazwsxyecrfvjgb?h;unmdt,ol.pik\n",
      "GEN: 155, AVG: 153.6, MIN: 113, BEST: qazwsxyecrfvjgb?h;unmdt,ol.pik\n",
      "GEN: 156, AVG: 163.36, MIN: 113, BEST: qazwsxyecrfvjgb?h;unmdt,ol.pik\n",
      "GEN: 157, AVG: 157.35, MIN: 113, BEST: qazwsxyecrfvjgb?h;unmdt,ol.pik\n",
      "GEN: 158, AVG: 171.82, MIN: 113, BEST: qazwsxyecrfvjgb?h;unmdt,ol.pik\n",
      "GEN: 159, AVG: 174.89, MIN: 113, BEST: qazwsxyecrfvjgb?h;unmdt,ol.pik\n",
      "GEN: 160, AVG: 168.04, MIN: 113, BEST: qazwsxyecrfvjgb?h;unmdt,ol.pik\n",
      "GEN: 161, AVG: 160.85, MIN: 113, BEST: qazwsxyecrfvjgb?h;unmdt,ol.pik\n",
      "GEN: 162, AVG: 156.91, MIN: 113, BEST: qazwsxyecrfvjgb?h;unmdt,ol.pik\n",
      "GEN: 163, AVG: 157.84, MIN: 113, BEST: qazwsxyecrfvjgb?h;unmdt,ol.pik\n",
      "GEN: 164, AVG: 176.26, MIN: 113, BEST: qazwsxyecrfvjgb?h;unmdt,ol.pik\n",
      "GEN: 165, AVG: 191.71, MIN: 113, BEST: qazwsxyecrfvjgb?h;unmdt,ol.pik\n",
      "GEN: 166, AVG: 180.06, MIN: 113, BEST: qazwsxyecrfvjgb?h;unmdt,ol.pik\n",
      "GEN: 167, AVG: 186.34, MIN: 113, BEST: qazwsxyecrfvjgb?h;unmdt,ol.pik\n",
      "GEN: 168, AVG: 171.91, MIN: 113, BEST: qazwsxyecrfvjgb?h;unmdt,ol.pik\n",
      "GEN: 169, AVG: 177.92, MIN: 113, BEST: qazwsxyecrfvjgb?h;unmdt,ol.pik\n",
      "GEN: 170, AVG: 170.71, MIN: 113, BEST: qazwsxyecrfvjgb?h;unmdt,ol.pik\n",
      "GEN: 171, AVG: 180.05, MIN: 113, BEST: qazwsxyecrfvjgb?h;unmdt,ol.pik\n",
      "GEN: 172, AVG: 175.46, MIN: 113, BEST: qazwsxyecrfvjgb?h;unmdt,ol.pik\n",
      "GEN: 173, AVG: 163.74, MIN: 113, BEST: qazwsxyecrfvjgb?h;unmdt,ol.pik\n",
      "GEN: 174, AVG: 163.98, MIN: 113, BEST: qazwsxyecrfvjgb?h;unmdt,ol.pik\n",
      "GEN: 175, AVG: 171.63, MIN: 113, BEST: qazwsxyecrfvjgb?h;unmdt,ol.pik\n",
      "GEN: 176, AVG: 177.99, MIN: 113, BEST: qazwsxyecrfvjgb?h;unmdt,ol.pik\n",
      "GEN: 177, AVG: 176.22, MIN: 113, BEST: qazwsxyecrfvjgb?h;unmdt,ol.pik\n",
      "GEN: 178, AVG: 164.8, MIN: 113, BEST: qazwsxyecrfvjgb?h;unmdt,ol.pik\n",
      "GEN: 179, AVG: 164.68, MIN: 113, BEST: qazwsxyecrfvjgb?h;unmdt,ol.pik\n",
      "GEN: 180, AVG: 172.99, MIN: 113, BEST: qazwsxyecrfvjgb?h;unmdt,ol.pik\n",
      "GEN: 181, AVG: 166.7, MIN: 113, BEST: qazwsxyecrfvjgb?h;unmdt,ol.pik\n",
      "GEN: 182, AVG: 162.06, MIN: 113, BEST: qazwsxyecrfvjgb?h;unmdt,ol.pik\n",
      "GEN: 183, AVG: 164.63, MIN: 113, BEST: qazwsxyecrfvjgb?h;unmdt,ol.pik\n",
      "GEN: 184, AVG: 160.75, MIN: 113, BEST: qazwsxyecrfvjgb?h;unmdt,ol.pik\n",
      "GEN: 185, AVG: 164.13, MIN: 113, BEST: qazwsxyecrfvjgb?h;unmdt,ol.pik\n",
      "GEN: 186, AVG: 167.77, MIN: 113, BEST: qazwsxyecrfvjgb?h;unmdt,ol.pik\n",
      "GEN: 187, AVG: 176.14, MIN: 113, BEST: qazwsxyecrfvjgb?h;unmdt,ol.pik\n",
      "GEN: 188, AVG: 186.33, MIN: 113, BEST: qazwsxyecrfvjgb?h;unmdt,ol.pik\n",
      "GEN: 189, AVG: 188.05, MIN: 113, BEST: qazwsxyecrfvjgb?h;unmdt,ol.pik\n",
      "GEN: 190, AVG: 177.84, MIN: 113, BEST: qazwsxyecrfvjgb?h;unmdt,ol.pik\n",
      "GEN: 191, AVG: 185.02, MIN: 113, BEST: qazwsxyecrfvjgb?h;unmdt,ol.pik\n",
      "GEN: 192, AVG: 188.65, MIN: 113, BEST: qazwsxyecrfvjgb?h;unmdt,ol.pik\n",
      "GEN: 193, AVG: 180.45, MIN: 113, BEST: qazwsxyecrfvjgb?h;unmdt,ol.pik\n",
      "GEN: 194, AVG: 188.62, MIN: 113, BEST: qazwsxyecrfvjgb?h;unmdt,ol.pik\n",
      "GEN: 195, AVG: 195.02, MIN: 113, BEST: qazwsxyecrfvjgb?h;unmdt,ol.pik\n",
      "GEN: 196, AVG: 192.92, MIN: 113, BEST: qazwsxyecrfvjgb?h;unmdt,ol.pik\n",
      "GEN: 197, AVG: 189.81, MIN: 113, BEST: qazwsxyecrfvjgb?h;unmdt,ol.pik\n",
      "GEN: 198, AVG: 181.39, MIN: 113, BEST: qazwsxyecrfvjgb?h;unmdt,ol.pik\n",
      "GEN: 199, AVG: 178.65, MIN: 113, BEST: qazwsxyecrfvjgb?h;unmdt,ol.pik\n",
      "GEN: 200, AVG: 179.58, MIN: 113, BEST: qazwsxyecrfvjgb?h;unmdt,ol.pik\n"
     ]
    }
   ],
   "source": [
    "for i1 in range(GENERATIONS):    \n",
    "    evals, sorted_evals = get_evals(population)\n",
    "    sum_evals = 0\n",
    "    for key in evals:\n",
    "        sum_evals += evals[key]\n",
    "    avg_evals = sum_evals/P_SIZE\n",
    "\n",
    "    population_str = [''.join(genome) for genome in population]\n",
    "\n",
    "    learning['generations'][i1] = {\n",
    "        'population': population_str,\n",
    "        'best': population_str[sorted_evals[0]],\n",
    "        'min': evals[sorted_evals[0]],\n",
    "        'avg': avg_evals\n",
    "    }\n",
    "    print('GEN: {}, AVG: {}, MIN: {}, BEST: {}'.format(i1+1, avg_evals, evals[sorted_evals[0]], population_str[sorted_evals[0]]))\n",
    "    \n",
    "    population = new_generation(population, sorted_evals, P_SIZE, MUTATION_RATE)\n",
    "\n",
    "\n",
    "LEARNING_JSON = 'output/learning14.json'\n",
    "with open(LEARNING_JSON, 'w') as fp:\n",
    "    json.dump(learning, fp)"
   ]
  },
  {
   "cell_type": "markdown",
   "metadata": {},
   "source": [
    "### Visualize the training\n",
    "\n",
    "This code will take a learning json file and plot the data. It will plot one graph as the average distance for each generation, and another graph for the best distance for each generation."
   ]
  },
  {
   "cell_type": "code",
   "execution_count": 192,
   "metadata": {},
   "outputs": [
    {
     "data": {
      "image/png": "[encoded data removed]",
      "text/plain": [
       "<Figure size 640x480 with 1 Axes>"
      ]
     },
     "metadata": {},
     "output_type": "display_data"
    },
    {
     "data": {
      "image/png": "[encoded data removed]",
      "text/plain": [
       "<Figure size 640x480 with 1 Axes>"
      ]
     },
     "metadata": {},
     "output_type": "display_data"
    }
   ],
   "source": [
    "with open(LEARNING_JSON) as fp:\n",
    "    learning = json.load(fp)\n",
    "    \n",
    "last_dist = 1000000000\n",
    "min_dists = []\n",
    "avg_dists = []\n",
    "generations = len(learning['generations'])\n",
    "\n",
    "for i1 in range(0, generations):\n",
    "    min_dist = learning['generations'][str(i1)]['min']\n",
    "    avg_dist = learning['generations'][str(i1)]['avg']\n",
    "    min_dists.append(min_dist)\n",
    "    avg_dists.append(avg_dist)\n",
    "\n",
    "plt.plot(min_dists, label='Lowest Distance')\n",
    "plt.xlabel('Generations')\n",
    "plt.ylabel('Distance')\n",
    "plt.legend()\n",
    "plt.show()\n",
    "\n",
    "plt.plot(avg_dists, label='Average Distance', color='orange')\n",
    "plt.xlabel('Generations')\n",
    "plt.ylabel('Distance')\n",
    "plt.legend()\n",
    "plt.show()"
   ]
  },
  {
   "cell_type": "markdown",
   "metadata": {},
   "source": [
    "### Visualizing keyboards\n",
    "\n",
    "The following code will create an image for any keyboard string to help visualize what layout the keyboard string corresponds to. This isn't needed, but can be helpful when viewing keyboards generated by the genetic algorithm."
   ]
  },
  {
   "cell_type": "code",
   "execution_count": 193,
   "metadata": {},
   "outputs": [
    {
     "data": {
      "image/png": "[encoded data removed]",
      "text/plain": [
       "<PIL.Image.Image image mode=RGBA size=890x356>"
      ]
     },
     "metadata": {},
     "output_type": "display_data"
    }
   ],
   "source": [
    "kb = learning['generations'][str(GENERATIONS-1)]['best'] # best keyboard found\n",
    "layout['ga_']=''.join(kb)\n",
    "\n",
    "with Image.open(\"template.jpg\").convert(\"RGBA\") as base:\n",
    "\n",
    "    # make a blank image for the text, initialized to transparent text color\n",
    "    txt = Image.new(\"RGBA\", base.size, (255, 255, 255, 0))\n",
    "\n",
    "    # get a font\n",
    "    fnt = ImageFont.truetype(\"SFNSMono.ttf\", 40)\n",
    "    # get a drawing context\n",
    "    d = ImageDraw.Draw(txt)\n",
    "    \n",
    "    x_offsets = [110, 135, 175]\n",
    "    for i1 in range(30):\n",
    "        row = i1%3\n",
    "        column = math.floor(i1/3)\n",
    "        x = column*60 + x_offsets[row]\n",
    "        y = row*65 + 85\n",
    "        char_coords = (x, y)\n",
    "        d.text(char_coords, kb[i1], font=fnt, fill=(0, 0, 0, 255))\n",
    "\n",
    "    out = Image.alpha_composite(base, txt)\n",
    "\n",
    "    display(out)"
   ]
  },
  {
   "cell_type": "code",
   "execution_count": 194,
   "metadata": {},
   "outputs": [
    {
     "name": "stdout",
     "output_type": "stream",
     "text": [
      "test\tqazwsxyecrfvjgb?h;unmdt,ol.pik\t 500720\t318461\t63237\t10\t1\t112436\t\n"
     ]
    }
   ],
   "source": [
    "# 单项测试\n",
    "layout['test'] = 'qazwsxyecrfvjgb?h;unmdt,ol.pik'\n",
    "keys = layout['test']\n",
    "KeyboardLayout=(genome_to_keyboard(list(layout['test']))) \n",
    "results = []\n",
    "for language, text in full_text.items():\n",
    "    distance = total_distance(text, KeyboardLayout)\n",
    "    results.append(f\"{int(distance)}\\t\")\n",
    "results.append(f\"{cal_hamming_distance(layout['qwerty'], keys)}\\t\")\n",
    "results.append(f\"{cal_punish_distance(layout['qwerty'], keys)}\\t\")\n",
    "repeat_count = 0\n",
    "for language, text in full_text.items():\n",
    "    repeat_count += finger_repeat(full_text[language],KeyboardLayout)\n",
    "results.append(f\"{repeat_count}\\t\")\n",
    "print(f\"{layout_name}\\t{keys}\\t\", \"\".join(results))"
   ]
  },
  {
   "cell_type": "code",
   "execution_count": 185,
   "metadata": {},
   "outputs": [
    {
     "name": "stdout",
     "output_type": "stream",
     "text": [
      "Layout\tkeys\tarxiv\tchinese\tpython\thamming\tpunish\trepeat\n",
      "qwerty\tqazwsxedcrfvtgbyhnujmik,ol.p;/\t 905782\t506503\t103831\t0\t0\t176943\t\n",
      "qwertz\tqaywsxedcrfvtgbzhnujmik,ol.p;/\t 898213\t507934\t103601\t2\t2\t187169\t\n",
      "devorak\t/a;,oq.ejpukyixfdbghmctwrnvlsz\t 500412\t325192\t69279\t28\t13\t148019\t\n",
      "colemak\tqazwrxfscptvgdbjhklnmue,yi.;o?\t 417029\t316830\t60409\t18\t5\t103387\t\n",
      "rstlne\tqagwsxdecfrvzl/;hbunjkimyo,pt.\t 415583\t314191\t61834\t20\t4\t151085\t\n",
      "cyletix10\tqazwsxdecrtvfgb;hnjlmki,yo.pu/\t 518358\t331261\t65249\t12\t4\t141764\t\n",
      "ga_10\tqazwsxyocrhv;db?kjltmgi,ue.pnf\t 441359\t264343\t63758\t16\t2\t90477\t\n",
      "ga_10v4\tqazwsxyecrfvdgb;hnljmki,uo.pt/\t 539769\t360576\t68236\t10\t4\t102374\t\n",
      "ga_12\tqazwsxjdcrnvflbyh;ugm?i,oe.ptk\t 519859\t274086\t67684\t11\t2\t124236\t\n",
      "ga_\tqazwsxyecrfvjgb?h;unmdt,ol.pik\t 500720\t318461\t63237\t10\t1\t112436\t\n",
      "test\tqa.yexgocksvjw;?dbfhmui,rnlptz\t 422181\t251542\t63462\t22\t6\t76961\t\n"
     ]
    }
   ],
   "source": [
    "# 结果汇总\n",
    "print(f\"Layout\\tkeys\\tarxiv\\tchinese\\tpython\\thamming\\tpunish\\trepeat\")\n",
    "\n",
    "for layout_name, keys in layout.items():\n",
    "    KeyboardLayout=(genome_to_keyboard(list(layout[layout_name]))) \n",
    "    results = []\n",
    "    for language, text in full_text.items():\n",
    "        distance = total_distance(text, KeyboardLayout)\n",
    "        results.append(f\"{int(distance)}\\t\")\n",
    "    results.append(f\"{cal_hamming_distance(layout['qwerty'], keys)}\\t\")\n",
    "    results.append(f\"{cal_punish_distance(layout['qwerty'], keys)}\\t\")\n",
    "    repeat_count = 0\n",
    "    for language, text in full_text.items():\n",
    "        repeat_count += finger_repeat(full_text[language],KeyboardLayout)\n",
    "    results.append(f\"{repeat_count}\\t\")\n",
    "    print(f\"{layout_name}\\t{keys}\\t\", \"\".join(results))"
   ]
  },
  {
   "cell_type": "markdown",
   "metadata": {},
   "source": [
    "# arxiv随机抽样测试"
   ]
  },
  {
   "cell_type": "code",
   "execution_count": null,
   "metadata": {},
   "outputs": [],
   "source": [
    "def arxiv_randtest(layout):\n",
    "    TEST_SAMPLE_SIZE = 3000  # 可以根据需要调整样本数大小\n",
    "\n",
    "    # 首先统计文件总行数\n",
    "    total_lines = 0\n",
    "    with open(ARXIV_JSON, 'r', encoding='utf-8') as f:\n",
    "        for _ in f:\n",
    "            total_lines += 1\n",
    "\n",
    "    # 从total_lines中随机选取TEST_SAMPLE_SIZE个行号作为抽样\n",
    "    sample_line_indices = set(random.sample(range(total_lines), TEST_SAMPLE_SIZE))\n",
    "\n",
    "    full_text['arxiv_test'] = ''  # 增加一个新的测试数据子集\n",
    "    with open(ARXIV_JSON, 'r', encoding='utf-8') as file:\n",
    "        for i, line in enumerate(file):\n",
    "            if i in sample_line_indices:\n",
    "                abstract = json.loads(line)['abstract'].replace('\\n', ' ').strip().lower()\n",
    "                # 如果abstract中有不合法字符则跳过\n",
    "                if any(char not in legal_chars for char in abstract):\n",
    "                    continue\n",
    "                full_text['arxiv_test'] += ' ' + abstract\n",
    "\n",
    "    # print(\"测试数据集构建完成，arxiv_test长度:\", len(full_text['arxiv_test']))\n",
    "    distance_randtest=total_distance(full_text['arxiv_test'], layout)\n",
    "    # print(distance_randtest)\n",
    "    return distance_randtest\n",
    "\n"
   ]
  },
  {
   "cell_type": "code",
   "execution_count": 203,
   "metadata": {},
   "outputs": [
    {
     "name": "stdout",
     "output_type": "stream",
     "text": [
      "22431.36677710927\n"
     ]
    },
    {
     "data": {
      "text/plain": [
       "22431.36677710927"
      ]
     },
     "execution_count": 203,
     "metadata": {},
     "output_type": "execute_result"
    }
   ],
   "source": [
    "arxiv_randtest(genome_to_keyboard(list(layout['test'])))"
   ]
  }
 ],
 "metadata": {
  "kernelspec": {
   "display_name": "Python 3",
   "language": "python",
   "name": "python3"
  },
  "language_info": {
   "codemirror_mode": {
    "name": "ipython",
    "version": 3
   },
   "file_extension": ".py",
   "mimetype": "text/x-python",
   "name": "python",
   "nbconvert_exporter": "python",
   "pygments_lexer": "ipython3",
   "version": "3.10.11"
  }
 },
 "nbformat": 4,
 "nbformat_minor": 2
}
