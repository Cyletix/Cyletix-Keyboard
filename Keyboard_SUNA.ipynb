{
 "cells": [
  {
   "cell_type": "code",
   "execution_count": null,
   "metadata": {},
   "outputs": [],
   "source": [
    "import torch\n",
    "import torch.nn as nn\n",
    "import torch.optim as optim\n"
   ]
  },
  {
   "cell_type": "markdown",
   "metadata": {},
   "source": [
    "2. 定义键盘布局的特征表示\n",
    "为了将键盘布局输入到神经网络中，需要将其转换为数值特征。可以采用以下方法：\n",
    "\n",
    "One-Hot 编码：将每个键位上的字符用 one-hot 向量表示，整个键盘展开为一个长向量。"
   ]
  },
  {
   "cell_type": "code",
   "execution_count": null,
   "metadata": {},
   "outputs": [],
   "source": [
    "def layout_to_features(layout_str):\n",
    "    # 定义字符集（包含所有可能的字符）\n",
    "    charset = sorted(list(set(''.join(layout.values()))))\n",
    "    char_to_index = {char: idx for idx, char in enumerate(charset)}\n",
    "    feature = []\n",
    "    for char in layout_str:\n",
    "        one_hot = [0] * len(charset)\n",
    "        index = char_to_index[char]\n",
    "        one_hot[index] = 1\n",
    "        feature.extend(one_hot)\n",
    "    return feature\n"
   ]
  },
  {
   "cell_type": "markdown",
   "metadata": {},
   "source": [
    "3. 定义深度学习模型"
   ]
  },
  {
   "cell_type": "code",
   "execution_count": null,
   "metadata": {},
   "outputs": [],
   "source": [
    "class FitnessPredictor(nn.Module):\n",
    "    def __init__(self, input_size):\n",
    "        super(FitnessPredictor, self).__init__()\n",
    "        self.fc = nn.Sequential(\n",
    "            nn.Linear(input_size, 128),\n",
    "            nn.ReLU(),\n",
    "            nn.Linear(128, 64),\n",
    "            nn.ReLU(),\n",
    "            nn.Linear(64, 1)  # 输出预测的适应度值\n",
    "        )\n",
    "    \n",
    "    def forward(self, x):\n",
    "        return self.fc(x)\n"
   ]
  },
  {
   "cell_type": "markdown",
   "metadata": {},
   "source": [
    "4. 初始化模型和优化器"
   ]
  },
  {
   "cell_type": "code",
   "execution_count": null,
   "metadata": {},
   "outputs": [],
   "source": [
    "# 计算输入特征的维度\n",
    "input_size = len(layout_to_features(layout['qwerty']))\n",
    "\n",
    "model = FitnessPredictor(input_size)\n",
    "criterion = nn.MSELoss()\n",
    "optimizer = optim.Adam(model.parameters(), lr=0.001)\n"
   ]
  },
  {
   "cell_type": "markdown",
   "metadata": {},
   "source": [
    "5. 修改 get_evals 函数\n",
    "在评估适应度时，使用深度学习模型进行预测："
   ]
  },
  {
   "cell_type": "code",
   "execution_count": null,
   "metadata": {},
   "outputs": [],
   "source": [
    "def get_evals(population, use_model=False):\n",
    "    evals = {}\n",
    "    features = []\n",
    "    indices = []\n",
    "    for i, genome in enumerate(population):\n",
    "        genome_str = ''.join(genome)\n",
    "        if use_model:\n",
    "            # 使用模型预测适应度\n",
    "            feature = layout_to_features(genome_str)\n",
    "            features.append(feature)\n",
    "            indices.append(i)\n",
    "        else:\n",
    "            # 真实计算适应度\n",
    "            keyboard = genome_to_keyboard(genome)\n",
    "            dist = total_distance_with_penalty(total_full_text, keyboard, penalty=1)\n",
    "            repeat_count = finger_repeat(total_full_text, keyboard)\n",
    "            pop_hamming_dist = cal_layout_hamming_dist(layout['qwerty'], genome)\n",
    "            pop_punish_dist = cal_layout_punish_distance(layout['qwerty'], genome)\n",
    "            evals[i] = int((dist + repeat_count * 2) * (pop_hamming_dist + pop_punish_dist * 0.5 + 10) / 200000)\n",
    "    \n",
    "    if use_model and features:\n",
    "        # 转换为 Tensor\n",
    "        features_tensor = torch.tensor(features, dtype=torch.float32)\n",
    "        # 模型预测\n",
    "        with torch.no_grad():\n",
    "            predictions = model(features_tensor).squeeze().numpy()\n",
    "        for idx, pred in zip(indices, predictions):\n",
    "            evals[idx] = pred.item()\n",
    "    \n",
    "    # 对 evals 进行排序\n",
    "    sorted_evals = [k for k, v in sorted(evals.items(), key=lambda item: item[1])]\n",
    "    return evals, sorted_evals\n"
   ]
  }
 ],
 "metadata": {
  "kernelspec": {
   "display_name": "Python 3",
   "language": "python",
   "name": "python3"
  },
  "language_info": {
   "name": "python",
   "version": "3.10.11"
  }
 },
 "nbformat": 4,
 "nbformat_minor": 2
}
